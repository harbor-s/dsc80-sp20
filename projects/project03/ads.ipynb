{
 "cells": [
  {
   "cell_type": "markdown",
   "metadata": {},
   "source": [
    "# Snapchat Political Ads\n",
    "This project uses political ads data from Snapchat, a popular social media app. Interesting questions to consider include:\n",
    "- What are the most prevalent organizations, advertisers, and ballot candidates in the data? Do you recognize any?\n",
    "- What are the characteristics of ads with a large reach, i.e., many views? What may a campaign consider when maximizing an ad's reach?\n",
    "- What are the characteristics of ads with a smaller reach, i.e., less views? Aside from funding constraints, why might a campaign want to produce an ad with a smaller but more targeted reach?\n",
    "- What are the characteristics of the most expensive ads? If a campaign is limited on advertising funds, what type of ad may the campaign consider?\n",
    "- What groups or regions are targeted frequently? (For example, for single-gender campaigns, are men or women targeted more frequently?) What groups or regions are targeted less frequently? Why? Does this depend on the type of campaign?\n",
    "- Have the characteristics of ads changed over time (e.g. over the past year)?\n",
    "- When is the most common local time of day for an ad's start date? What about the most common day of week? (Make sure to account for time zones for both questions.)\n",
    "\n",
    "### Getting the Data\n",
    "The data and its corresponding data dictionary is downloadable [here](https://www.snap.com/en-US/political-ads/). Download both the 2018 CSV and the 2019 CSV. \n",
    "\n",
    "The CSVs have the same filename; rename the CSVs as needed.\n",
    "\n",
    "Note that the CSVs have the exact same columns and the exact same data dictionaries (`readme.txt`).\n",
    "\n",
    "### Cleaning and EDA\n",
    "- Concatenate the 2018 CSV and the 2019 CSV into one DataFrame so that we have data from both years.\n",
    "- Clean the data.\n",
    "    - Convert `StartDate` and `EndDate` into datetime. Make sure the datetimes are in the correct time zone. You can use whatever timezone (e.g. UTC) you want as long as you are consistent. However, if you want to answer a question like \"When is the most common local time of day for an ad's start date,\" you will need to convert timezones as needed. See Hint 2 below for more information.\n",
    "- Understand the data in ways relevant to your question using univariate and bivariate analysis of the data as well as aggregations.\n",
    "\n",
    "*Hint 1: What is the \"Z\" at the end of each timestamp?*\n",
    "\n",
    "*Hint 2: `pd.to_datetime` will be useful here. `Series.dt.tz_convert` will be useful if a change in time zone is needed.*\n",
    "\n",
    "*Tip: To visualize geospatial data, consider [Folium](https://python-visualization.github.io/folium/) or another geospatial plotting library.*\n",
    "\n",
    "### Assessment of Missingness\n",
    "Many columns which have `NaN` values may not actually have missing data. How come? In some cases, a null or empty value corresponds to an actual, meaningful value. For example, `readme.txt` states the following about `Gender`:\n",
    "\n",
    ">  Gender - Gender targeting criteria used in the Ad. If empty, then it is targeting all genders\n",
    "\n",
    "In this scenario, an empty `Gender` value (which is read in as `NaN` in pandas) corresponds to \"all genders\".\n",
    "\n",
    "- Refer to the data dictionary to determine which columns do **not** belong to the scenario above. Assess the missingness of one of these columns.\n",
    "\n",
    "### Hypothesis Test / Permutation Test\n",
    "Find a hypothesis test or permutation test to perform. You can use the questions at the top of the notebook for inspiration."
   ]
  },
  {
   "cell_type": "markdown",
   "metadata": {},
   "source": [
    "# Summary of Findings\n",
    "\n",
    "### Introduction\n",
    "TODO\n",
    "\n",
    "### Cleaning and EDA\n",
    "TODO\n",
    "\n",
    "### Assessment of Missingness\n",
    "TODO\n",
    "\n",
    "### Hypothesis Test\n",
    "TODO"
   ]
  },
  {
   "cell_type": "markdown",
   "metadata": {},
   "source": [
    "# Code"
   ]
  },
  {
   "cell_type": "code",
   "execution_count": 115,
   "metadata": {
    "ExecuteTime": {
     "end_time": "2019-10-31T23:36:28.652554Z",
     "start_time": "2019-10-31T23:36:27.180520Z"
    }
   },
   "outputs": [],
   "source": [
    "import matplotlib.pyplot as plt\n",
    "import numpy as np\n",
    "import os\n",
    "import pandas as pd\n",
    "import seaborn as sns\n",
    "from scipy import stats\n",
    "%matplotlib inline\n",
    "%config InlineBackend.figure_format = 'retina'  # Higher resolution figures"
   ]
  },
  {
   "cell_type": "markdown",
   "metadata": {},
   "source": [
    "### Cleaning and EDA"
   ]
  },
  {
   "cell_type": "code",
   "execution_count": 14,
   "metadata": {},
   "outputs": [
    {
     "data": {
      "text/plain": [
       "348     234901755\n",
       "829     103438876\n",
       "1802     84687140\n",
       "2889     75083793\n",
       "1842     52836223\n",
       "          ...    \n",
       "744             2\n",
       "610             2\n",
       "1624            2\n",
       "3491            1\n",
       "3488            1\n",
       "Name: Impressions, Length: 3609, dtype: int64"
      ]
     },
     "execution_count": 14,
     "metadata": {},
     "output_type": "execute_result"
    }
   ],
   "source": [
    "pol19['Impressions'].sort_values(ascending = False)"
   ]
  },
  {
   "cell_type": "code",
   "execution_count": 13,
   "metadata": {},
   "outputs": [],
   "source": [
    "pol18 = pd.read_csv('2018PoliticalAds.csv')\n",
    "pol19 = pd.read_csv('2019PoliticalAds.csv')"
   ]
  },
  {
   "cell_type": "markdown",
   "metadata": {},
   "source": [
    "#### Merging the two dataframes"
   ]
  },
  {
   "cell_type": "code",
   "execution_count": 15,
   "metadata": {},
   "outputs": [
    {
     "data": {
      "text/plain": [
       "array([ True,  True,  True,  True,  True,  True,  True,  True,  True,\n",
       "        True,  True,  True,  True,  True,  True,  True,  True,  True,\n",
       "        True,  True,  True,  True,  True,  True,  True,  True,  True,\n",
       "        True,  True,  True,  True,  True,  True,  True])"
      ]
     },
     "execution_count": 15,
     "metadata": {},
     "output_type": "execute_result"
    }
   ],
   "source": [
    "pol19.columns == pol18.columns"
   ]
  },
  {
   "cell_type": "code",
   "execution_count": 16,
   "metadata": {},
   "outputs": [
    {
     "data": {
      "text/plain": [
       "(659, 34)"
      ]
     },
     "execution_count": 16,
     "metadata": {},
     "output_type": "execute_result"
    }
   ],
   "source": [
    "pol18.shape"
   ]
  },
  {
   "cell_type": "code",
   "execution_count": 17,
   "metadata": {},
   "outputs": [
    {
     "data": {
      "text/plain": [
       "array([ True,  True,  True,  True,  True,  True,  True,  True,  True,\n",
       "        True,  True,  True,  True,  True,  True,  True,  True,  True,\n",
       "        True,  True,  True,  True,  True,  True,  True,  True,  True,\n",
       "        True,  True,  True,  True,  True,  True,  True])"
      ]
     },
     "execution_count": 17,
     "metadata": {},
     "output_type": "execute_result"
    }
   ],
   "source": [
    "pol_comb = pd.concat([pol18, pol19], ignore_index = True)\n",
    "pol_comb.columns == pol19.columns"
   ]
  },
  {
   "cell_type": "code",
   "execution_count": 18,
   "metadata": {},
   "outputs": [],
   "source": [
    "useful_cols = ['ADID', 'Currency Code', 'Spend', 'Impressions', 'StartDate', 'EndDate', 'OrganizationName', 'CountryCode']\n",
    "pol_comb = pol_comb[useful_cols]"
   ]
  },
  {
   "cell_type": "code",
   "execution_count": 19,
   "metadata": {},
   "outputs": [],
   "source": [
    "s_type = pol_comb.dtypes\n",
    "s_null = pol_comb.isnull().mean().sort_values(ascending = False)"
   ]
  },
  {
   "cell_type": "code",
   "execution_count": 20,
   "metadata": {},
   "outputs": [
    {
     "name": "stderr",
     "output_type": "stream",
     "text": [
      "/opt/anaconda3/lib/python3.7/site-packages/ipykernel_launcher.py:1: FutureWarning: Sorting because non-concatenation axis is not aligned. A future version\n",
      "of pandas will change to not sort by default.\n",
      "\n",
      "To accept the future behavior, pass 'sort=False'.\n",
      "\n",
      "To retain the current behavior and silence the warning, pass 'sort=True'.\n",
      "\n",
      "  \"\"\"Entry point for launching an IPython kernel.\n"
     ]
    },
    {
     "data": {
      "text/html": [
       "<div>\n",
       "<style scoped>\n",
       "    .dataframe tbody tr th:only-of-type {\n",
       "        vertical-align: middle;\n",
       "    }\n",
       "\n",
       "    .dataframe tbody tr th {\n",
       "        vertical-align: top;\n",
       "    }\n",
       "\n",
       "    .dataframe thead th {\n",
       "        text-align: right;\n",
       "    }\n",
       "</style>\n",
       "<table border=\"1\" class=\"dataframe\">\n",
       "  <thead>\n",
       "    <tr style=\"text-align: right;\">\n",
       "      <th></th>\n",
       "      <th>type</th>\n",
       "      <th>null %</th>\n",
       "    </tr>\n",
       "  </thead>\n",
       "  <tbody>\n",
       "    <tr>\n",
       "      <td>EndDate</td>\n",
       "      <td>object</td>\n",
       "      <td>0.182052</td>\n",
       "    </tr>\n",
       "    <tr>\n",
       "      <td>ADID</td>\n",
       "      <td>object</td>\n",
       "      <td>0.000000</td>\n",
       "    </tr>\n",
       "    <tr>\n",
       "      <td>CountryCode</td>\n",
       "      <td>object</td>\n",
       "      <td>0.000000</td>\n",
       "    </tr>\n",
       "    <tr>\n",
       "      <td>Currency Code</td>\n",
       "      <td>object</td>\n",
       "      <td>0.000000</td>\n",
       "    </tr>\n",
       "    <tr>\n",
       "      <td>Impressions</td>\n",
       "      <td>int64</td>\n",
       "      <td>0.000000</td>\n",
       "    </tr>\n",
       "    <tr>\n",
       "      <td>OrganizationName</td>\n",
       "      <td>object</td>\n",
       "      <td>0.000000</td>\n",
       "    </tr>\n",
       "    <tr>\n",
       "      <td>Spend</td>\n",
       "      <td>int64</td>\n",
       "      <td>0.000000</td>\n",
       "    </tr>\n",
       "    <tr>\n",
       "      <td>StartDate</td>\n",
       "      <td>object</td>\n",
       "      <td>0.000000</td>\n",
       "    </tr>\n",
       "  </tbody>\n",
       "</table>\n",
       "</div>"
      ],
      "text/plain": [
       "                    type    null %\n",
       "EndDate           object  0.182052\n",
       "ADID              object  0.000000\n",
       "CountryCode       object  0.000000\n",
       "Currency Code     object  0.000000\n",
       "Impressions        int64  0.000000\n",
       "OrganizationName  object  0.000000\n",
       "Spend              int64  0.000000\n",
       "StartDate         object  0.000000"
      ]
     },
     "execution_count": 20,
     "metadata": {},
     "output_type": "execute_result"
    }
   ],
   "source": [
    "type_null = pd.concat([s_type, s_null], axis = 1)\n",
    "type_null.columns = ['type', 'null %']\n",
    "type_null.sort_values(by = 'null %', ascending = False)"
   ]
  },
  {
   "cell_type": "markdown",
   "metadata": {},
   "source": [
    "#### Converting all expenditures to US Dollars"
   ]
  },
  {
   "cell_type": "code",
   "execution_count": 21,
   "metadata": {},
   "outputs": [],
   "source": [
    "# I want to see the distribution of expenditures on the ads and in order to do this, I need to convert them all to a standard Currency, which I chose to be US Dollars\n",
    "\n",
    "pol_comb[\"Currency Code\"].unique()\n",
    "curr_exchange = {'EUR': 0.93, 'CAD': 1.41, 'GBP': 0.82, 'AUD': 1.55}\n",
    "\n",
    "def us_conversion(row):\n",
    "    if row[\"Currency Code\"] == 'EUR':\n",
    "        return row['Spend'] * 0.93\n",
    "    elif row[\"Currency Code\"] == 'CAD':\n",
    "        return row['Spend'] * 1.41\n",
    "    elif row[\"Currency Code\"] == 'GBP':\n",
    "        return row['Spend'] * 0.82\n",
    "    elif row[\"Currency Code\"] == 'AUD':\n",
    "        return row['Spend'] * 1.55\n",
    "    else:\n",
    "        return row['Spend']\n",
    "\n",
    "pol_comb.insert(4, 'Spend_Standardized', pol_comb.apply(us_conversion, axis=1))"
   ]
  },
  {
   "cell_type": "code",
   "execution_count": 22,
   "metadata": {},
   "outputs": [
    {
     "data": {
      "text/plain": [
       "count      4268.000000\n",
       "mean       1758.287718\n",
       "std       12494.335170\n",
       "min           0.000000\n",
       "25%          40.000000\n",
       "50%         195.000000\n",
       "75%         774.250000\n",
       "max      451244.000000\n",
       "Name: Spend_Standardized, dtype: float64"
      ]
     },
     "execution_count": 22,
     "metadata": {},
     "output_type": "execute_result"
    },
    {
     "data": {
      "image/png": "[encoded data removed]",
      "text/plain": [
       "<Figure size 432x288 with 1 Axes>"
      ]
     },
     "metadata": {
      "image/png": {
       "height": 263,
       "width": 395
      },
      "needs_background": "light"
     },
     "output_type": "display_data"
    }
   ],
   "source": [
    "# It is difficult to see the distribution because there is an outlier(s)\n",
    "\n",
    "pol_comb['Spend_Standardized'].plot(kind='hist', title='Distribution of Expenditures')\n",
    "pol_comb['Spend_Standardized'].describe()"
   ]
  },
  {
   "cell_type": "code",
   "execution_count": 23,
   "metadata": {},
   "outputs": [
    {
     "data": {
      "text/plain": [
       "count    3508.000000\n",
       "mean      245.697446\n",
       "std       287.860056\n",
       "min         0.000000\n",
       "25%        28.000000\n",
       "50%       116.720000\n",
       "75%       382.000000\n",
       "max      1161.000000\n",
       "Name: Spend_Standardized, dtype: float64"
      ]
     },
     "execution_count": 23,
     "metadata": {},
     "output_type": "execute_result"
    },
    {
     "data": {
      "image/png": "[encoded data removed]",
      "text/plain": [
       "<Figure size 432x288 with 1 Axes>"
      ]
     },
     "metadata": {
      "image/png": {
       "height": 263,
       "width": 403
      },
      "needs_background": "light"
     },
     "output_type": "display_data"
    }
   ],
   "source": [
    "# I defined an outlier to be anything past 1.5 * 75th percentile and we can see a better distribution, although most are still between 0-150\n",
    "\n",
    "spend_no_outliers = pol_comb[pol_comb['Spend_Standardized'] < 1.5 * np.percentile(pol_comb['Spend_Standardized'], 75)]\n",
    "spend_no_outliers['Spend_Standardized'].plot(kind='hist', title='Distribution of Expenditures')\n",
    "spend_no_outliers['Spend_Standardized'].describe()"
   ]
  },
  {
   "cell_type": "code",
   "execution_count": 24,
   "metadata": {},
   "outputs": [
    {
     "data": {
      "text/plain": [
       "count    4.268000e+03\n",
       "mean     7.022956e+05\n",
       "std      4.944558e+06\n",
       "min      1.000000e+00\n",
       "25%      1.320050e+04\n",
       "50%      7.268950e+04\n",
       "75%      3.237462e+05\n",
       "max      2.349018e+08\n",
       "Name: Impressions, dtype: float64"
      ]
     },
     "execution_count": 24,
     "metadata": {},
     "output_type": "execute_result"
    },
    {
     "data": {
      "image/png": "[encoded data removed]",
      "text/plain": [
       "<Figure size 432x288 with 1 Axes>"
      ]
     },
     "metadata": {
      "image/png": {
       "height": 276,
       "width": 395
      },
      "needs_background": "light"
     },
     "output_type": "display_data"
    }
   ],
   "source": [
    "# Similar to the Expenditures distribution, it is difficult to see the distribution due to outliers\n",
    "\n",
    "pol_comb['Impressions'].plot(kind='hist', title='Distribution of Impressions')\n",
    "pol_comb['Impressions'].describe()"
   ]
  },
  {
   "cell_type": "code",
   "execution_count": 25,
   "metadata": {},
   "outputs": [
    {
     "data": {
      "text/plain": [
       "count    3459.000000\n",
       "mean      280.324553\n",
       "std       425.280999\n",
       "min         0.000000\n",
       "25%        27.000000\n",
       "50%       114.000000\n",
       "75%       372.000000\n",
       "max      5795.000000\n",
       "Name: Spend_Standardized, dtype: float64"
      ]
     },
     "execution_count": 25,
     "metadata": {},
     "output_type": "execute_result"
    },
    {
     "data": {
      "image/png": "[encoded data removed]",
      "text/plain": [
       "<Figure size 432x288 with 1 Axes>"
      ]
     },
     "metadata": {
      "image/png": {
       "height": 263,
       "width": 403
      },
      "needs_background": "light"
     },
     "output_type": "display_data"
    }
   ],
   "source": [
    "# I defined an outlier to be anything past 1.5 * 75th percentile and we can see a better distribution, although most are still between 0-2500\n",
    "\n",
    "imp_no_outliers = pol_comb[pol_comb['Impressions'] < 1.5 * np.percentile(pol_comb['Impressions'], 75)]\n",
    "imp_no_outliers['Spend_Standardized'].plot(kind='hist', title='Distribution of Impressions')\n",
    "imp_no_outliers['Spend_Standardized'].describe()"
   ]
  },
  {
   "cell_type": "markdown",
   "metadata": {},
   "source": [
    "#### Converting Dates to DateTime Objects"
   ]
  },
  {
   "cell_type": "code",
   "execution_count": 26,
   "metadata": {},
   "outputs": [],
   "source": [
    "# First we convert the date to DateTime Objects\n",
    "\n",
    "pol_comb[\"StartDate\"] = pd.to_datetime(pol_comb[\"StartDate\"])\n",
    "pol_comb[\"EndDate\"] = pd.to_datetime(pol_comb[\"EndDate\"])"
   ]
  },
  {
   "cell_type": "code",
   "execution_count": 27,
   "metadata": {},
   "outputs": [
    {
     "data": {
      "text/plain": [
       "united states           0.535848\n",
       "united kingdom          0.122306\n",
       "norway                  0.105201\n",
       "canada                  0.093486\n",
       "denmark                 0.024602\n",
       "netherlands             0.018510\n",
       "france                  0.016870\n",
       "sweden                  0.008669\n",
       "austria                 0.008669\n",
       "australia               0.008435\n",
       "finland                 0.008201\n",
       "kuwait                  0.008201\n",
       "switzerland             0.007263\n",
       "belgium                 0.006560\n",
       "ireland                 0.006092\n",
       "india                   0.004217\n",
       "poland                  0.003280\n",
       "germany                 0.003046\n",
       "south africa            0.002343\n",
       "nigeria                 0.002109\n",
       "united arab emirates    0.001640\n",
       "argentina               0.001406\n",
       "turkey                  0.000937\n",
       "lithuania               0.000703\n",
       "puerto rico             0.000469\n",
       "chile                   0.000234\n",
       "iraq                    0.000234\n",
       "brazil                  0.000234\n",
       "new zealand             0.000234\n",
       "Name: CountryCode, dtype: float64"
      ]
     },
     "execution_count": 27,
     "metadata": {},
     "output_type": "execute_result"
    }
   ],
   "source": [
    "# Given the data, it is difficult to assess the origin of the political ad, which makes it difficult to indicate at what local time it was released\n",
    "# For the purposes of this project, I identified the country origin of where the ads mostly come from\n",
    "\n",
    "pol_comb['CountryCode'].value_counts(normalize = True)"
   ]
  },
  {
   "cell_type": "code",
   "execution_count": 28,
   "metadata": {},
   "outputs": [],
   "source": [
    "# Because the majority of ads come from the US (53.58%), I decided to focus only on the ads that originate from the US\n",
    "\n",
    "us_pol_comb = pol_comb[pol_comb['CountryCode'] == 'united states'].reset_index().drop(columns = ['index', 'Spend_Standardized'])"
   ]
  },
  {
   "cell_type": "code",
   "execution_count": 29,
   "metadata": {},
   "outputs": [],
   "source": [
    "# Although there are still different time zones in the US, I decided to settle on Pacific Standard Time in order to standardize everything\n",
    "# As a result, ads that were published after 9pm PST could potentially be a part of the next day depending on the region, but we forced to generalize\n",
    "\n",
    "us_pol_comb.loc[:, \"StartDate\"] = us_pol_comb.loc[:, \"StartDate\"].dt.tz_convert('US/PACIFIC')\n",
    "us_pol_comb.loc[:, \"EndDate\"] = us_pol_comb.loc[:, \"EndDate\"].dt.tz_convert('US/PACIFIC')"
   ]
  },
  {
   "cell_type": "code",
   "execution_count": 30,
   "metadata": {},
   "outputs": [],
   "source": [
    "# We can extract the month, day of week, and hour of when the ads are released\n",
    "\n",
    "us_pol_comb['StartMonth'] = us_pol_comb['StartDate'].apply(lambda x: x.month)\n",
    "us_pol_comb['StartDOW'] = us_pol_comb['StartDate'].apply(lambda x: x.weekday)\n",
    "us_pol_comb['StartDay'] = us_pol_comb['StartDate'].apply(lambda x: x.day)\n",
    "us_pol_comb['StartYear'] = us_pol_comb['StartDate'].apply(lambda x: x.year)\n",
    "us_pol_comb['StartHour'] = us_pol_comb['StartDate'].apply(lambda x: x.hour)"
   ]
  },
  {
   "cell_type": "code",
   "execution_count": 31,
   "metadata": {},
   "outputs": [
    {
     "data": {
      "text/plain": [
       "<matplotlib.axes._subplots.AxesSubplot at 0x1a1a6be9d0>"
      ]
     },
     "execution_count": 31,
     "metadata": {},
     "output_type": "execute_result"
    },
    {
     "data": {
      "image/png": "[encoded data removed]",
      "text/plain": [
       "<Figure size 432x288 with 1 Axes>"
      ]
     },
     "metadata": {
      "image/png": {
       "height": 275,
       "width": 375
      },
      "needs_background": "light"
     },
     "output_type": "display_data"
    }
   ],
   "source": [
    "# Distribution of Start Months - It is interesting to note that the ads usually are published in September/October/November\n",
    "\n",
    "monthDict= {1:'Jan', 2:'Feb', 3:'Mar', 4:'Apr', 5:'May', 6:'Jun', 7:'Jul', 8:'Aug', 9:'Sep', 10:'Oct', 11:'Nov', 12:'Dec'}\n",
    "us_pol_comb['StartMonth'].replace(monthDict, inplace = True)\n",
    "us_pol_comb['StartMonth'].value_counts().plot(kind = 'bar', title = 'Number of Ads by Month')"
   ]
  },
  {
   "cell_type": "code",
   "execution_count": 32,
   "metadata": {},
   "outputs": [
    {
     "data": {
      "text/plain": [
       "<matplotlib.axes._subplots.AxesSubplot at 0x11558b690>"
      ]
     },
     "execution_count": 32,
     "metadata": {},
     "output_type": "execute_result"
    },
    {
     "data": {
      "image/png": "[encoded data removed]",
      "text/plain": [
       "<Figure size 432x288 with 1 Axes>"
      ]
     },
     "metadata": {
      "image/png": {
       "height": 313,
       "width": 375
      },
      "needs_background": "light"
     },
     "output_type": "display_data"
    }
   ],
   "source": [
    "# Distribution of Weekdays - It is interesting to note that the ads usually are published on Tuesday/Thursdays PST\n",
    "\n",
    "dayDict = {0: 'Monday', 1: 'Tuesday', 2: 'Wednesday', 3: 'Thursday', 4: 'Friday', 5: 'Saturday', 6: 'Sunday'}\n",
    "us_pol_comb['StartDOW'].replace(dayDict, inplace = True)\n",
    "us_pol_comb['StartDOW'].value_counts().plot(kind = 'bar', title = 'Number of Ads by Weekday')"
   ]
  },
  {
   "cell_type": "code",
   "execution_count": 33,
   "metadata": {},
   "outputs": [
    {
     "data": {
      "text/html": [
       "<div>\n",
       "<style scoped>\n",
       "    .dataframe tbody tr th:only-of-type {\n",
       "        vertical-align: middle;\n",
       "    }\n",
       "\n",
       "    .dataframe tbody tr th {\n",
       "        vertical-align: top;\n",
       "    }\n",
       "\n",
       "    .dataframe thead th {\n",
       "        text-align: right;\n",
       "    }\n",
       "</style>\n",
       "<table border=\"1\" class=\"dataframe\">\n",
       "  <thead>\n",
       "    <tr style=\"text-align: right;\">\n",
       "      <th></th>\n",
       "      <th>S:A Ratio Total</th>\n",
       "    </tr>\n",
       "    <tr>\n",
       "      <th>StartMonth</th>\n",
       "      <th></th>\n",
       "    </tr>\n",
       "  </thead>\n",
       "  <tbody>\n",
       "    <tr>\n",
       "      <td>Jul</td>\n",
       "      <td>6917.875000</td>\n",
       "    </tr>\n",
       "    <tr>\n",
       "      <td>Oct</td>\n",
       "      <td>4674.487037</td>\n",
       "    </tr>\n",
       "    <tr>\n",
       "      <td>Apr</td>\n",
       "      <td>3498.309524</td>\n",
       "    </tr>\n",
       "    <tr>\n",
       "      <td>Dec</td>\n",
       "      <td>2033.378947</td>\n",
       "    </tr>\n",
       "    <tr>\n",
       "      <td>Jan</td>\n",
       "      <td>1569.600000</td>\n",
       "    </tr>\n",
       "    <tr>\n",
       "      <td>Mar</td>\n",
       "      <td>1136.063492</td>\n",
       "    </tr>\n",
       "    <tr>\n",
       "      <td>Jun</td>\n",
       "      <td>905.930233</td>\n",
       "    </tr>\n",
       "    <tr>\n",
       "      <td>Sep</td>\n",
       "      <td>765.213663</td>\n",
       "    </tr>\n",
       "    <tr>\n",
       "      <td>Aug</td>\n",
       "      <td>746.752475</td>\n",
       "    </tr>\n",
       "    <tr>\n",
       "      <td>Nov</td>\n",
       "      <td>616.362712</td>\n",
       "    </tr>\n",
       "    <tr>\n",
       "      <td>Feb</td>\n",
       "      <td>582.000000</td>\n",
       "    </tr>\n",
       "    <tr>\n",
       "      <td>May</td>\n",
       "      <td>575.961832</td>\n",
       "    </tr>\n",
       "  </tbody>\n",
       "</table>\n",
       "</div>"
      ],
      "text/plain": [
       "            S:A Ratio Total\n",
       "StartMonth                 \n",
       "Jul             6917.875000\n",
       "Oct             4674.487037\n",
       "Apr             3498.309524\n",
       "Dec             2033.378947\n",
       "Jan             1569.600000\n",
       "Mar             1136.063492\n",
       "Jun              905.930233\n",
       "Sep              765.213663\n",
       "Aug              746.752475\n",
       "Nov              616.362712\n",
       "Feb              582.000000\n",
       "May              575.961832"
      ]
     },
     "execution_count": 33,
     "metadata": {},
     "output_type": "execute_result"
    }
   ],
   "source": [
    "# Rather than accumulating the total amount of money spent, I found the ratio of expenditures to ads to see how it varied amongst months\n",
    "# This allows us to see how much money was spent on average on each ad\n",
    "\n",
    "totals = us_pol_comb.groupby(['StartMonth']).sum().sort_values(by = 'Impressions', ascending = False)\n",
    "totals = totals.join(us_pol_comb.groupby('StartMonth')['ADID'].count())\n",
    "totals['S:A Ratio Total'] = totals['Spend']/totals['ADID']\n",
    "(totals.sort_values(by = 'S:A Ratio Total', ascending = False)['S:A Ratio Total']).to_frame()"
   ]
  },
  {
   "cell_type": "code",
   "execution_count": 34,
   "metadata": {},
   "outputs": [
    {
     "data": {
      "text/plain": [
       "414"
      ]
     },
     "execution_count": 34,
     "metadata": {},
     "output_type": "execute_result"
    }
   ],
   "source": [
    "# The chart from above is somewhat biased because of outliers, so I was curious to see the difference without including outliers\n",
    "# There were 414 outliers in the expenditures columns\n",
    "\n",
    "exp_no_outliers = us_pol_comb[us_pol_comb['Spend'] < 1.5 * np.percentile(us_pol_comb['Spend'], 75)]\n",
    "us_pol_comb.shape[0] - exp_no_outliers.shape[0]"
   ]
  },
  {
   "cell_type": "code",
   "execution_count": 35,
   "metadata": {},
   "outputs": [
    {
     "data": {
      "text/html": [
       "<div>\n",
       "<style scoped>\n",
       "    .dataframe tbody tr th:only-of-type {\n",
       "        vertical-align: middle;\n",
       "    }\n",
       "\n",
       "    .dataframe tbody tr th {\n",
       "        vertical-align: top;\n",
       "    }\n",
       "\n",
       "    .dataframe thead th {\n",
       "        text-align: right;\n",
       "    }\n",
       "</style>\n",
       "<table border=\"1\" class=\"dataframe\">\n",
       "  <thead>\n",
       "    <tr style=\"text-align: right;\">\n",
       "      <th></th>\n",
       "      <th>S:A Ratio No Outliers</th>\n",
       "    </tr>\n",
       "    <tr>\n",
       "      <th>StartMonth</th>\n",
       "      <th></th>\n",
       "    </tr>\n",
       "  </thead>\n",
       "  <tbody>\n",
       "    <tr>\n",
       "      <td>Jul</td>\n",
       "      <td>397.500000</td>\n",
       "    </tr>\n",
       "    <tr>\n",
       "      <td>Oct</td>\n",
       "      <td>373.232057</td>\n",
       "    </tr>\n",
       "    <tr>\n",
       "      <td>Mar</td>\n",
       "      <td>341.625000</td>\n",
       "    </tr>\n",
       "    <tr>\n",
       "      <td>Apr</td>\n",
       "      <td>330.419355</td>\n",
       "    </tr>\n",
       "    <tr>\n",
       "      <td>Jun</td>\n",
       "      <td>298.205882</td>\n",
       "    </tr>\n",
       "    <tr>\n",
       "      <td>Jan</td>\n",
       "      <td>293.333333</td>\n",
       "    </tr>\n",
       "    <tr>\n",
       "      <td>Feb</td>\n",
       "      <td>251.857143</td>\n",
       "    </tr>\n",
       "    <tr>\n",
       "      <td>May</td>\n",
       "      <td>189.552632</td>\n",
       "    </tr>\n",
       "    <tr>\n",
       "      <td>Aug</td>\n",
       "      <td>188.047059</td>\n",
       "    </tr>\n",
       "    <tr>\n",
       "      <td>Nov</td>\n",
       "      <td>184.805556</td>\n",
       "    </tr>\n",
       "    <tr>\n",
       "      <td>Sep</td>\n",
       "      <td>134.393600</td>\n",
       "    </tr>\n",
       "    <tr>\n",
       "      <td>Dec</td>\n",
       "      <td>73.831250</td>\n",
       "    </tr>\n",
       "  </tbody>\n",
       "</table>\n",
       "</div>"
      ],
      "text/plain": [
       "            S:A Ratio No Outliers\n",
       "StartMonth                       \n",
       "Jul                    397.500000\n",
       "Oct                    373.232057\n",
       "Mar                    341.625000\n",
       "Apr                    330.419355\n",
       "Jun                    298.205882\n",
       "Jan                    293.333333\n",
       "Feb                    251.857143\n",
       "May                    189.552632\n",
       "Aug                    188.047059\n",
       "Nov                    184.805556\n",
       "Sep                    134.393600\n",
       "Dec                     73.831250"
      ]
     },
     "execution_count": 35,
     "metadata": {},
     "output_type": "execute_result"
    }
   ],
   "source": [
    "totals = exp_no_outliers.groupby(['StartMonth']).sum().sort_values(by = 'Impressions', ascending = False)\n",
    "totals = totals.join(exp_no_outliers.groupby('StartMonth')['ADID'].count())\n",
    "totals['S:A Ratio No Outliers'] = totals['Spend']/totals['ADID']\n",
    "(totals.sort_values(by = 'S:A Ratio No Outliers', ascending = False)['S:A Ratio No Outliers']).to_frame()"
   ]
  },
  {
   "cell_type": "code",
   "execution_count": 36,
   "metadata": {},
   "outputs": [
    {
     "data": {
      "text/html": [
       "<div>\n",
       "<style scoped>\n",
       "    .dataframe tbody tr th:only-of-type {\n",
       "        vertical-align: middle;\n",
       "    }\n",
       "\n",
       "    .dataframe tbody tr th {\n",
       "        vertical-align: top;\n",
       "    }\n",
       "\n",
       "    .dataframe thead th {\n",
       "        text-align: right;\n",
       "    }\n",
       "</style>\n",
       "<table border=\"1\" class=\"dataframe\">\n",
       "  <thead>\n",
       "    <tr style=\"text-align: right;\">\n",
       "      <th></th>\n",
       "      <th>S:A Ratio Only Outliers</th>\n",
       "    </tr>\n",
       "    <tr>\n",
       "      <th>StartMonth</th>\n",
       "      <th></th>\n",
       "    </tr>\n",
       "  </thead>\n",
       "  <tbody>\n",
       "    <tr>\n",
       "      <td>Oct</td>\n",
       "      <td>19411.573770</td>\n",
       "    </tr>\n",
       "    <tr>\n",
       "      <td>Jul</td>\n",
       "      <td>13959.880000</td>\n",
       "    </tr>\n",
       "    <tr>\n",
       "      <td>Dec</td>\n",
       "      <td>12484.300000</td>\n",
       "    </tr>\n",
       "    <tr>\n",
       "      <td>Apr</td>\n",
       "      <td>12426.000000</td>\n",
       "    </tr>\n",
       "    <tr>\n",
       "      <td>Sep</td>\n",
       "      <td>7023.349206</td>\n",
       "    </tr>\n",
       "    <tr>\n",
       "      <td>Aug</td>\n",
       "      <td>3714.875000</td>\n",
       "    </tr>\n",
       "    <tr>\n",
       "      <td>Jan</td>\n",
       "      <td>3484.000000</td>\n",
       "    </tr>\n",
       "    <tr>\n",
       "      <td>Jun</td>\n",
       "      <td>3201.777778</td>\n",
       "    </tr>\n",
       "    <tr>\n",
       "      <td>May</td>\n",
       "      <td>3167.176471</td>\n",
       "    </tr>\n",
       "    <tr>\n",
       "      <td>Nov</td>\n",
       "      <td>3145.488372</td>\n",
       "    </tr>\n",
       "    <tr>\n",
       "      <td>Mar</td>\n",
       "      <td>2517.695652</td>\n",
       "    </tr>\n",
       "    <tr>\n",
       "      <td>Feb</td>\n",
       "      <td>2122.666667</td>\n",
       "    </tr>\n",
       "  </tbody>\n",
       "</table>\n",
       "</div>"
      ],
      "text/plain": [
       "            S:A Ratio Only Outliers\n",
       "StartMonth                         \n",
       "Oct                    19411.573770\n",
       "Jul                    13959.880000\n",
       "Dec                    12484.300000\n",
       "Apr                    12426.000000\n",
       "Sep                     7023.349206\n",
       "Aug                     3714.875000\n",
       "Jan                     3484.000000\n",
       "Jun                     3201.777778\n",
       "May                     3167.176471\n",
       "Nov                     3145.488372\n",
       "Mar                     2517.695652\n",
       "Feb                     2122.666667"
      ]
     },
     "execution_count": 36,
     "metadata": {},
     "output_type": "execute_result"
    }
   ],
   "source": [
    "# Let's take a look at the outliers and their distribution\n",
    "\n",
    "exp_outliers = us_pol_comb[us_pol_comb['Spend'] >= 1.5 * np.percentile(us_pol_comb['Spend'], 75)]\n",
    "\n",
    "totals = exp_outliers.groupby(['StartMonth']).sum().sort_values(by = 'Impressions', ascending = False)\n",
    "totals = totals.join(exp_outliers.groupby('StartMonth')['ADID'].count())\n",
    "totals['S:A Ratio Only Outliers'] = totals['Spend']/totals['ADID']\n",
    "(totals.sort_values(by = 'S:A Ratio Only Outliers', ascending = False)['S:A Ratio Only Outliers']).to_frame()"
   ]
  },
  {
   "cell_type": "code",
   "execution_count": 37,
   "metadata": {},
   "outputs": [],
   "source": [
    "# I want to know the statistics of the top 10% of political ads in the US\n",
    "# I will create something similar to what I had before\n",
    "\n",
    "top90ads = us_pol_comb[us_pol_comb['Impressions'] >= np.percentile(us_pol_comb['Impressions'], 90)].reset_index().drop(columns = ['index'])"
   ]
  },
  {
   "cell_type": "code",
   "execution_count": 38,
   "metadata": {},
   "outputs": [
    {
     "data": {
      "text/plain": [
       "<matplotlib.axes._subplots.AxesSubplot at 0x1a1aea3b90>"
      ]
     },
     "execution_count": 38,
     "metadata": {},
     "output_type": "execute_result"
    },
    {
     "data": {
      "image/png": "[encoded data removed]",
      "text/plain": [
       "<Figure size 432x288 with 1 Axes>"
      ]
     },
     "metadata": {
      "image/png": {
       "height": 275,
       "width": 369
      },
      "needs_background": "light"
     },
     "output_type": "display_data"
    }
   ],
   "source": [
    "top90ads['StartMonth'].value_counts().plot(kind = 'bar', title = 'Number of Ads by Month')"
   ]
  },
  {
   "cell_type": "code",
   "execution_count": 39,
   "metadata": {},
   "outputs": [
    {
     "data": {
      "text/plain": [
       "<matplotlib.axes._subplots.AxesSubplot at 0x1a1ae093d0>"
      ]
     },
     "execution_count": 39,
     "metadata": {},
     "output_type": "execute_result"
    },
    {
     "data": {
      "image/png": "[encoded data removed]",
      "text/plain": [
       "<Figure size 432x288 with 1 Axes>"
      ]
     },
     "metadata": {
      "image/png": {
       "height": 313,
       "width": 369
      },
      "needs_background": "light"
     },
     "output_type": "display_data"
    }
   ],
   "source": [
    "top90ads['StartDOW'].value_counts().plot(kind = 'bar', title = 'Number of Ads by Weekday')"
   ]
  },
  {
   "cell_type": "code",
   "execution_count": 40,
   "metadata": {},
   "outputs": [
    {
     "data": {
      "text/html": [
       "<div>\n",
       "<style scoped>\n",
       "    .dataframe tbody tr th:only-of-type {\n",
       "        vertical-align: middle;\n",
       "    }\n",
       "\n",
       "    .dataframe tbody tr th {\n",
       "        vertical-align: top;\n",
       "    }\n",
       "\n",
       "    .dataframe thead th {\n",
       "        text-align: right;\n",
       "    }\n",
       "</style>\n",
       "<table border=\"1\" class=\"dataframe\">\n",
       "  <thead>\n",
       "    <tr style=\"text-align: right;\">\n",
       "      <th></th>\n",
       "      <th>S:A Ratio Total</th>\n",
       "    </tr>\n",
       "    <tr>\n",
       "      <th>StartMonth</th>\n",
       "      <th></th>\n",
       "    </tr>\n",
       "  </thead>\n",
       "  <tbody>\n",
       "    <tr>\n",
       "      <td>Oct</td>\n",
       "      <td>0.003042</td>\n",
       "    </tr>\n",
       "    <tr>\n",
       "      <td>Jul</td>\n",
       "      <td>0.002903</td>\n",
       "    </tr>\n",
       "    <tr>\n",
       "      <td>May</td>\n",
       "      <td>0.002857</td>\n",
       "    </tr>\n",
       "    <tr>\n",
       "      <td>Feb</td>\n",
       "      <td>0.002811</td>\n",
       "    </tr>\n",
       "    <tr>\n",
       "      <td>Mar</td>\n",
       "      <td>0.002736</td>\n",
       "    </tr>\n",
       "    <tr>\n",
       "      <td>Dec</td>\n",
       "      <td>0.002613</td>\n",
       "    </tr>\n",
       "    <tr>\n",
       "      <td>Sep</td>\n",
       "      <td>0.002501</td>\n",
       "    </tr>\n",
       "    <tr>\n",
       "      <td>Jun</td>\n",
       "      <td>0.002478</td>\n",
       "    </tr>\n",
       "    <tr>\n",
       "      <td>Jan</td>\n",
       "      <td>0.001856</td>\n",
       "    </tr>\n",
       "    <tr>\n",
       "      <td>Nov</td>\n",
       "      <td>0.001798</td>\n",
       "    </tr>\n",
       "    <tr>\n",
       "      <td>Aug</td>\n",
       "      <td>0.001656</td>\n",
       "    </tr>\n",
       "    <tr>\n",
       "      <td>Apr</td>\n",
       "      <td>0.000997</td>\n",
       "    </tr>\n",
       "  </tbody>\n",
       "</table>\n",
       "</div>"
      ],
      "text/plain": [
       "            S:A Ratio Total\n",
       "StartMonth                 \n",
       "Oct                0.003042\n",
       "Jul                0.002903\n",
       "May                0.002857\n",
       "Feb                0.002811\n",
       "Mar                0.002736\n",
       "Dec                0.002613\n",
       "Sep                0.002501\n",
       "Jun                0.002478\n",
       "Jan                0.001856\n",
       "Nov                0.001798\n",
       "Aug                0.001656\n",
       "Apr                0.000997"
      ]
     },
     "execution_count": 40,
     "metadata": {},
     "output_type": "execute_result"
    }
   ],
   "source": [
    "totals = top90ads.groupby(['StartMonth']).sum().sort_values(by = 'Impressions', ascending = False)\n",
    "totals = totals.join(top90ads.groupby('StartMonth')['ADID'].count())\n",
    "totals['S:A Ratio Total'] = totals['Spend']/totals['Impressions']\n",
    "(totals.sort_values(by = 'S:A Ratio Total', ascending = False)['S:A Ratio Total']).to_frame()"
   ]
  },
  {
   "cell_type": "markdown",
   "metadata": {},
   "source": [
    "### Assessment of Missingness"
   ]
  },
  {
   "cell_type": "code",
   "execution_count": 41,
   "metadata": {
    "ExecuteTime": {
     "end_time": "2019-10-31T23:36:28.662099Z",
     "start_time": "2019-10-31T23:36:28.660016Z"
    }
   },
   "outputs": [],
   "source": [
    "# TODO"
   ]
  },
  {
   "cell_type": "markdown",
   "metadata": {},
   "source": [
    "### Permutation Test"
   ]
  },
  {
   "cell_type": "markdown",
   "metadata": {
    "ExecuteTime": {
     "end_time": "2019-10-31T23:36:28.666489Z",
     "start_time": "2019-10-31T23:36:28.664381Z"
    }
   },
   "source": [
    "- Is there a significant difference between the amount of money spent on ads shown on weekends vs weekdays?\n",
    "- Two groups:\n",
    "    - ads shown on Monday, Tuesday, Wednesday, and Friday\n",
    "    - ads shown on Saturday and Sunday\n",
    "- Outcome to measure:\n",
    "    - money spent"
   ]
  },
  {
   "cell_type": "code",
   "execution_count": 42,
   "metadata": {},
   "outputs": [
    {
     "data": {
      "text/html": [
       "<div>\n",
       "<style scoped>\n",
       "    .dataframe tbody tr th:only-of-type {\n",
       "        vertical-align: middle;\n",
       "    }\n",
       "\n",
       "    .dataframe tbody tr th {\n",
       "        vertical-align: top;\n",
       "    }\n",
       "\n",
       "    .dataframe thead th {\n",
       "        text-align: right;\n",
       "    }\n",
       "</style>\n",
       "<table border=\"1\" class=\"dataframe\">\n",
       "  <thead>\n",
       "    <tr style=\"text-align: right;\">\n",
       "      <th></th>\n",
       "      <th>ADID</th>\n",
       "      <th>Currency Code</th>\n",
       "      <th>Spend</th>\n",
       "      <th>Impressions</th>\n",
       "      <th>StartDate</th>\n",
       "      <th>EndDate</th>\n",
       "      <th>OrganizationName</th>\n",
       "      <th>CountryCode</th>\n",
       "      <th>StartMonth</th>\n",
       "      <th>StartDOW</th>\n",
       "      <th>StartDay</th>\n",
       "      <th>StartYear</th>\n",
       "      <th>StartHour</th>\n",
       "    </tr>\n",
       "  </thead>\n",
       "  <tbody>\n",
       "    <tr>\n",
       "      <td>0</td>\n",
       "      <td>6f6f6abb25d183bc3f0a2df46d18c65a18f6e1cac73416...</td>\n",
       "      <td>USD</td>\n",
       "      <td>35</td>\n",
       "      <td>16678</td>\n",
       "      <td>2018-11-06 10:21:20-08:00</td>\n",
       "      <td>2018-11-06 17:19:08-08:00</td>\n",
       "      <td>Research Triangle Student Advocacy</td>\n",
       "      <td>united states</td>\n",
       "      <td>Nov</td>\n",
       "      <td>Tuesday</td>\n",
       "      <td>6</td>\n",
       "      <td>2018</td>\n",
       "      <td>10</td>\n",
       "    </tr>\n",
       "    <tr>\n",
       "      <td>1</td>\n",
       "      <td>64d906646b616c034c91b69b9e7851944844eb456dd203...</td>\n",
       "      <td>USD</td>\n",
       "      <td>56</td>\n",
       "      <td>11770</td>\n",
       "      <td>2018-09-28 16:10:14-07:00</td>\n",
       "      <td>2018-10-16 19:00:00-07:00</td>\n",
       "      <td>Chong and Koster</td>\n",
       "      <td>united states</td>\n",
       "      <td>Sep</td>\n",
       "      <td>Friday</td>\n",
       "      <td>28</td>\n",
       "      <td>2018</td>\n",
       "      <td>16</td>\n",
       "    </tr>\n",
       "    <tr>\n",
       "      <td>2</td>\n",
       "      <td>45d7697e2522ccdd56b699e832792b9b659f7159e180a2...</td>\n",
       "      <td>USD</td>\n",
       "      <td>2048</td>\n",
       "      <td>612521</td>\n",
       "      <td>2018-09-28 12:00:00-07:00</td>\n",
       "      <td>2018-10-26 20:59:00-07:00</td>\n",
       "      <td>Güd Marketing</td>\n",
       "      <td>united states</td>\n",
       "      <td>Sep</td>\n",
       "      <td>Friday</td>\n",
       "      <td>28</td>\n",
       "      <td>2018</td>\n",
       "      <td>12</td>\n",
       "    </tr>\n",
       "    <tr>\n",
       "      <td>3</td>\n",
       "      <td>46d8326f706f56296fa29f51b5127c67190807ccc08534...</td>\n",
       "      <td>USD</td>\n",
       "      <td>196</td>\n",
       "      <td>23810</td>\n",
       "      <td>2018-10-26 10:58:01-07:00</td>\n",
       "      <td>2018-11-06 14:59:59-08:00</td>\n",
       "      <td>Mothership Strategies</td>\n",
       "      <td>united states</td>\n",
       "      <td>Oct</td>\n",
       "      <td>Friday</td>\n",
       "      <td>26</td>\n",
       "      <td>2018</td>\n",
       "      <td>10</td>\n",
       "    </tr>\n",
       "    <tr>\n",
       "      <td>4</td>\n",
       "      <td>3af2a0894b7d969aed065b1c1d0a399882df677209dfe5...</td>\n",
       "      <td>USD</td>\n",
       "      <td>655</td>\n",
       "      <td>204107</td>\n",
       "      <td>2018-10-01 14:08:10-07:00</td>\n",
       "      <td>NaT</td>\n",
       "      <td>Mothership Strategies</td>\n",
       "      <td>united states</td>\n",
       "      <td>Oct</td>\n",
       "      <td>Monday</td>\n",
       "      <td>1</td>\n",
       "      <td>2018</td>\n",
       "      <td>14</td>\n",
       "    </tr>\n",
       "  </tbody>\n",
       "</table>\n",
       "</div>"
      ],
      "text/plain": [
       "                                                ADID Currency Code  Spend  \\\n",
       "0  6f6f6abb25d183bc3f0a2df46d18c65a18f6e1cac73416...           USD     35   \n",
       "1  64d906646b616c034c91b69b9e7851944844eb456dd203...           USD     56   \n",
       "2  45d7697e2522ccdd56b699e832792b9b659f7159e180a2...           USD   2048   \n",
       "3  46d8326f706f56296fa29f51b5127c67190807ccc08534...           USD    196   \n",
       "4  3af2a0894b7d969aed065b1c1d0a399882df677209dfe5...           USD    655   \n",
       "\n",
       "   Impressions                 StartDate                   EndDate  \\\n",
       "0        16678 2018-11-06 10:21:20-08:00 2018-11-06 17:19:08-08:00   \n",
       "1        11770 2018-09-28 16:10:14-07:00 2018-10-16 19:00:00-07:00   \n",
       "2       612521 2018-09-28 12:00:00-07:00 2018-10-26 20:59:00-07:00   \n",
       "3        23810 2018-10-26 10:58:01-07:00 2018-11-06 14:59:59-08:00   \n",
       "4       204107 2018-10-01 14:08:10-07:00                       NaT   \n",
       "\n",
       "                     OrganizationName    CountryCode StartMonth StartDOW  \\\n",
       "0  Research Triangle Student Advocacy  united states        Nov  Tuesday   \n",
       "1                    Chong and Koster  united states        Sep   Friday   \n",
       "2                       Güd Marketing  united states        Sep   Friday   \n",
       "3               Mothership Strategies  united states        Oct   Friday   \n",
       "4               Mothership Strategies  united states        Oct   Monday   \n",
       "\n",
       "   StartDay  StartYear  StartHour  \n",
       "0         6       2018         10  \n",
       "1        28       2018         16  \n",
       "2        28       2018         12  \n",
       "3        26       2018         10  \n",
       "4         1       2018         14  "
      ]
     },
     "execution_count": 42,
     "metadata": {},
     "output_type": "execute_result"
    }
   ],
   "source": [
    "#dataset\n",
    "us_pol_comb.head()"
   ]
  },
  {
   "cell_type": "code",
   "execution_count": 85,
   "metadata": {},
   "outputs": [
    {
     "data": {
      "text/html": [
       "<div>\n",
       "<style scoped>\n",
       "    .dataframe tbody tr th:only-of-type {\n",
       "        vertical-align: middle;\n",
       "    }\n",
       "\n",
       "    .dataframe tbody tr th {\n",
       "        vertical-align: top;\n",
       "    }\n",
       "\n",
       "    .dataframe thead th {\n",
       "        text-align: right;\n",
       "    }\n",
       "</style>\n",
       "<table border=\"1\" class=\"dataframe\">\n",
       "  <thead>\n",
       "    <tr style=\"text-align: right;\">\n",
       "      <th></th>\n",
       "      <th>StartDOW</th>\n",
       "      <th>Spend</th>\n",
       "    </tr>\n",
       "  </thead>\n",
       "  <tbody>\n",
       "    <tr>\n",
       "      <td>0</td>\n",
       "      <td>Tuesday</td>\n",
       "      <td>35</td>\n",
       "    </tr>\n",
       "    <tr>\n",
       "      <td>1</td>\n",
       "      <td>Friday</td>\n",
       "      <td>56</td>\n",
       "    </tr>\n",
       "    <tr>\n",
       "      <td>2</td>\n",
       "      <td>Friday</td>\n",
       "      <td>2048</td>\n",
       "    </tr>\n",
       "    <tr>\n",
       "      <td>3</td>\n",
       "      <td>Friday</td>\n",
       "      <td>196</td>\n",
       "    </tr>\n",
       "    <tr>\n",
       "      <td>4</td>\n",
       "      <td>Monday</td>\n",
       "      <td>655</td>\n",
       "    </tr>\n",
       "  </tbody>\n",
       "</table>\n",
       "</div>"
      ],
      "text/plain": [
       "  StartDOW  Spend\n",
       "0  Tuesday     35\n",
       "1   Friday     56\n",
       "2   Friday   2048\n",
       "3   Friday    196\n",
       "4   Monday    655"
      ]
     },
     "execution_count": 85,
     "metadata": {},
     "output_type": "execute_result"
    }
   ],
   "source": [
    "#we only need StartDOW, which represents the day of week on which the ad was shown, and Spend, which is the amount\n",
    "#of money spent in USD\n",
    "DOW_and_spend = us_pol_comb[['StartDOW', 'Spend']]\n",
    "DOW_and_spend.head()"
   ]
  },
  {
   "cell_type": "code",
   "execution_count": 86,
   "metadata": {},
   "outputs": [
    {
     "data": {
      "text/html": [
       "<div>\n",
       "<style scoped>\n",
       "    .dataframe tbody tr th:only-of-type {\n",
       "        vertical-align: middle;\n",
       "    }\n",
       "\n",
       "    .dataframe tbody tr th {\n",
       "        vertical-align: top;\n",
       "    }\n",
       "\n",
       "    .dataframe thead th {\n",
       "        text-align: right;\n",
       "    }\n",
       "</style>\n",
       "<table border=\"1\" class=\"dataframe\">\n",
       "  <thead>\n",
       "    <tr style=\"text-align: right;\">\n",
       "      <th></th>\n",
       "      <th>Spend</th>\n",
       "      <th>Weekday</th>\n",
       "    </tr>\n",
       "  </thead>\n",
       "  <tbody>\n",
       "    <tr>\n",
       "      <td>0</td>\n",
       "      <td>35</td>\n",
       "      <td>True</td>\n",
       "    </tr>\n",
       "    <tr>\n",
       "      <td>1</td>\n",
       "      <td>56</td>\n",
       "      <td>True</td>\n",
       "    </tr>\n",
       "    <tr>\n",
       "      <td>2</td>\n",
       "      <td>2048</td>\n",
       "      <td>True</td>\n",
       "    </tr>\n",
       "    <tr>\n",
       "      <td>3</td>\n",
       "      <td>196</td>\n",
       "      <td>True</td>\n",
       "    </tr>\n",
       "    <tr>\n",
       "      <td>4</td>\n",
       "      <td>655</td>\n",
       "      <td>True</td>\n",
       "    </tr>\n",
       "  </tbody>\n",
       "</table>\n",
       "</div>"
      ],
      "text/plain": [
       "   Spend  Weekday\n",
       "0     35     True\n",
       "1     56     True\n",
       "2   2048     True\n",
       "3    196     True\n",
       "4    655     True"
      ]
     },
     "execution_count": 86,
     "metadata": {},
     "output_type": "execute_result"
    }
   ],
   "source": [
    "#separating ads into weekend and weekday; we no longer need StartDOW\n",
    "weekday = DOW_and_spend['StartDOW'].apply(lambda x: True if x not in ['Saturday','Sunday'] else False)\n",
    "weekday_and_spend = DOW_and_spend.assign(Weekday = weekday).drop('StartDOW', axis = 1)\n",
    "weekday_and_spend.head()"
   ]
  },
  {
   "cell_type": "markdown",
   "metadata": {},
   "source": [
    "## Permutation Test - Testing by Simulation\n",
    "- **Null hypothesis**: There is no significant difference between the amount of money spent on ads shown on weekends and weekdays.\n",
    "- **Alternate hypothesis**: There is a significant difference between the amount of money spent on ads shown on weekends and weekdays.\n",
    "- **Test Statistic**: Absolute difference in means\n",
    "\n",
    "set a significance level of 0.05"
   ]
  },
  {
   "cell_type": "code",
   "execution_count": 127,
   "metadata": {},
   "outputs": [
    {
     "data": {
      "text/html": [
       "<div>\n",
       "<style scoped>\n",
       "    .dataframe tbody tr th:only-of-type {\n",
       "        vertical-align: middle;\n",
       "    }\n",
       "\n",
       "    .dataframe tbody tr th {\n",
       "        vertical-align: top;\n",
       "    }\n",
       "\n",
       "    .dataframe thead th {\n",
       "        text-align: right;\n",
       "    }\n",
       "</style>\n",
       "<table border=\"1\" class=\"dataframe\">\n",
       "  <thead>\n",
       "    <tr style=\"text-align: right;\">\n",
       "      <th></th>\n",
       "      <th>Spend</th>\n",
       "    </tr>\n",
       "    <tr>\n",
       "      <th>Weekday</th>\n",
       "      <th></th>\n",
       "    </tr>\n",
       "  </thead>\n",
       "  <tbody>\n",
       "    <tr>\n",
       "      <td>False</td>\n",
       "      <td>903.160173</td>\n",
       "    </tr>\n",
       "    <tr>\n",
       "      <td>True</td>\n",
       "      <td>2254.464494</td>\n",
       "    </tr>\n",
       "  </tbody>\n",
       "</table>\n",
       "</div>"
      ],
      "text/plain": [
       "               Spend\n",
       "Weekday             \n",
       "False     903.160173\n",
       "True     2254.464494"
      ]
     },
     "execution_count": 127,
     "metadata": {},
     "output_type": "execute_result"
    }
   ],
   "source": [
    "#observed means\n",
    "means_table = weekday_and_spend.groupby('Weekday').mean()\n",
    "means_table"
   ]
  },
  {
   "cell_type": "code",
   "execution_count": 128,
   "metadata": {},
   "outputs": [
    {
     "data": {
      "text/plain": [
       "1351.304321003251"
      ]
     },
     "execution_count": 128,
     "metadata": {},
     "output_type": "execute_result"
    }
   ],
   "source": [
    "#observed test statistic\n",
    "observed_difference = means_table.diff().iloc[-1,0]\n",
    "observed_difference"
   ]
  },
  {
   "cell_type": "code",
   "execution_count": 129,
   "metadata": {},
   "outputs": [],
   "source": [
    "#simulation\n",
    "\n",
    "N = 1000\n",
    "results = []\n",
    "\n",
    "for _ in range(N):\n",
    "    #create shuffled dataframe\n",
    "    s = weekday_and_spend['Weekday'].sample(frac=1, replace=False).reset_index(drop=True)\n",
    "    shuffled = weekday_and_spend.assign(weekday=s)\n",
    "    \n",
    "    #calculate difference of means and add to results array\n",
    "    shuff_means_table = shuffled.groupby('weekday').mean()\n",
    "    results.append(abs(shuff_means_table.diff().iloc[-1,0]))\n",
    "\n",
    "diffs_of_means = pd.Series(results)"
   ]
  },
  {
   "cell_type": "code",
   "execution_count": 130,
   "metadata": {},
   "outputs": [
    {
     "data": {
      "text/plain": [
       "0       228.558633\n",
       "1       984.993119\n",
       "2       591.561665\n",
       "3      1051.219118\n",
       "4      1199.980827\n",
       "          ...     \n",
       "995    1799.002834\n",
       "996     295.723632\n",
       "997    1250.756731\n",
       "998      73.483954\n",
       "999     720.007262\n",
       "Length: 1000, dtype: float64"
      ]
     },
     "execution_count": 130,
     "metadata": {},
     "output_type": "execute_result"
    }
   ],
   "source": [
    "diffs_of_means"
   ]
  },
  {
   "cell_type": "code",
   "execution_count": 133,
   "metadata": {},
   "outputs": [
    {
     "data": {
      "text/plain": [
       "0.162"
      ]
     },
     "execution_count": 133,
     "metadata": {},
     "output_type": "execute_result"
    }
   ],
   "source": [
    "pval = (diffs_of_means >= observed_difference).sum() / N\n",
    "pval"
   ]
  },
  {
   "cell_type": "markdown",
   "metadata": {},
   "source": [
    "**"
   ]
  },
  {
   "cell_type": "markdown",
   "metadata": {},
   "source": [
    "### Conclusion\n",
    "\n",
    "* We cannot reject the null hypothesis that there is no significant difference between the amount of money spent on ads shown on weekdays and weekends\n",
    "\n",
    "## However\n",
    "Our exploratory data analysis showed clear outliers - what would happen if these were removed?"
   ]
  },
  {
   "cell_type": "code",
   "execution_count": 138,
   "metadata": {},
   "outputs": [
    {
     "data": {
      "text/html": [
       "<div>\n",
       "<style scoped>\n",
       "    .dataframe tbody tr th:only-of-type {\n",
       "        vertical-align: middle;\n",
       "    }\n",
       "\n",
       "    .dataframe tbody tr th {\n",
       "        vertical-align: top;\n",
       "    }\n",
       "\n",
       "    .dataframe thead th {\n",
       "        text-align: right;\n",
       "    }\n",
       "</style>\n",
       "<table border=\"1\" class=\"dataframe\">\n",
       "  <thead>\n",
       "    <tr style=\"text-align: right;\">\n",
       "      <th></th>\n",
       "      <th>Spend</th>\n",
       "      <th>Weekday</th>\n",
       "    </tr>\n",
       "  </thead>\n",
       "  <tbody>\n",
       "    <tr>\n",
       "      <td>0</td>\n",
       "      <td>35</td>\n",
       "      <td>True</td>\n",
       "    </tr>\n",
       "    <tr>\n",
       "      <td>1</td>\n",
       "      <td>56</td>\n",
       "      <td>True</td>\n",
       "    </tr>\n",
       "    <tr>\n",
       "      <td>2</td>\n",
       "      <td>2048</td>\n",
       "      <td>True</td>\n",
       "    </tr>\n",
       "    <tr>\n",
       "      <td>3</td>\n",
       "      <td>196</td>\n",
       "      <td>True</td>\n",
       "    </tr>\n",
       "    <tr>\n",
       "      <td>4</td>\n",
       "      <td>655</td>\n",
       "      <td>True</td>\n",
       "    </tr>\n",
       "  </tbody>\n",
       "</table>\n",
       "</div>"
      ],
      "text/plain": [
       "   Spend  Weekday\n",
       "0     35     True\n",
       "1     56     True\n",
       "2   2048     True\n",
       "3    196     True\n",
       "4    655     True"
      ]
     },
     "execution_count": 138,
     "metadata": {},
     "output_type": "execute_result"
    }
   ],
   "source": [
    "z = np.abs(stats.zscore(weekday_and_spend['Spend']))\n",
    "weekday_and_spend_clean = weekday_and_spend[z<3]\n",
    "weekday_and_spend_clean.head()"
   ]
  },
  {
   "cell_type": "code",
   "execution_count": 139,
   "metadata": {},
   "outputs": [
    {
     "data": {
      "text/html": [
       "<div>\n",
       "<style scoped>\n",
       "    .dataframe tbody tr th:only-of-type {\n",
       "        vertical-align: middle;\n",
       "    }\n",
       "\n",
       "    .dataframe tbody tr th {\n",
       "        vertical-align: top;\n",
       "    }\n",
       "\n",
       "    .dataframe thead th {\n",
       "        text-align: right;\n",
       "    }\n",
       "</style>\n",
       "<table border=\"1\" class=\"dataframe\">\n",
       "  <thead>\n",
       "    <tr style=\"text-align: right;\">\n",
       "      <th></th>\n",
       "      <th>Spend</th>\n",
       "    </tr>\n",
       "    <tr>\n",
       "      <th>Weekday</th>\n",
       "      <th></th>\n",
       "    </tr>\n",
       "  </thead>\n",
       "  <tbody>\n",
       "    <tr>\n",
       "      <td>False</td>\n",
       "      <td>903.160173</td>\n",
       "    </tr>\n",
       "    <tr>\n",
       "      <td>True</td>\n",
       "      <td>1077.363235</td>\n",
       "    </tr>\n",
       "  </tbody>\n",
       "</table>\n",
       "</div>"
      ],
      "text/plain": [
       "               Spend\n",
       "Weekday             \n",
       "False     903.160173\n",
       "True     1077.363235"
      ]
     },
     "execution_count": 139,
     "metadata": {},
     "output_type": "execute_result"
    }
   ],
   "source": [
    "#observed means\n",
    "means_table_clean = weekday_and_spend_clean.groupby('Weekday').mean()\n",
    "means_table_clean"
   ]
  },
  {
   "cell_type": "code",
   "execution_count": 140,
   "metadata": {},
   "outputs": [
    {
     "data": {
      "text/plain": [
       "174.2030621339445"
      ]
     },
     "execution_count": 140,
     "metadata": {},
     "output_type": "execute_result"
    }
   ],
   "source": [
    "#observed test statistic\n",
    "observed_difference_clean = means_table_clean.diff().iloc[-1,0]\n",
    "observed_difference_clean"
   ]
  },
  {
   "cell_type": "code",
   "execution_count": 141,
   "metadata": {},
   "outputs": [],
   "source": [
    "#simulation\n",
    "\n",
    "N = 1000\n",
    "results = []\n",
    "\n",
    "for _ in range(N):\n",
    "    #create shuffled dataframe\n",
    "    s = weekday_and_spend_clean['Weekday'].sample(frac=1, replace=False).reset_index(drop=True)\n",
    "    shuffled = weekday_and_spend_clean.assign(weekday=s)\n",
    "    \n",
    "    #calculate difference of means and add to results array\n",
    "    shuff_means_table = shuffled.groupby('weekday').mean()\n",
    "    results.append(abs(shuff_means_table.diff().iloc[-1,0]))\n",
    "\n",
    "diffs_of_means_clean = pd.Series(results)"
   ]
  },
  {
   "cell_type": "code",
   "execution_count": 142,
   "metadata": {},
   "outputs": [
    {
     "data": {
      "text/plain": [
       "0.419"
      ]
     },
     "execution_count": 142,
     "metadata": {},
     "output_type": "execute_result"
    }
   ],
   "source": [
    "pval = (diffs_of_means_clean >= observed_difference_clean).sum() / N\n",
    "pval"
   ]
  },
  {
   "cell_type": "markdown",
   "metadata": {},
   "source": [
    "## Conclusion Without Outliers\n",
    "- with a p-value of less than 0.05, we reject the null hypothesis that there is no significant difference between the amount of money spent on ads shown on weekdays and weekends\n",
    "- we accept the alternate hypothesis - we have found a **significant difference** between the observed distribution and one created by random chance\n",
    "- the outliers have had a significant effect on the outcome of the test - the outliers themselves merit more analysis"
   ]
  },
  {
   "cell_type": "code",
   "execution_count": null,
   "metadata": {},
   "outputs": [],
   "source": []
  }
 ],
 "metadata": {
  "kernelspec": {
   "display_name": "Python 3",
   "language": "python",
   "name": "python3"
  },
  "language_info": {
   "codemirror_mode": {
    "name": "ipython",
    "version": 3
   },
   "file_extension": ".py",
   "mimetype": "text/x-python",
   "name": "python",
   "nbconvert_exporter": "python",
   "pygments_lexer": "ipython3",
   "version": "3.7.4"
  }
 },
 "nbformat": 4,
 "nbformat_minor": 4
}
