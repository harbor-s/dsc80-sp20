{
 "cells": [
  {
   "cell_type": "markdown",
   "metadata": {},
   "source": [
    "# Snapchat Political Ads\n",
    "This project uses political ads data from Snapchat, a popular social media app. Interesting questions to consider include:\n",
    "- What are the most prevalent organizations, advertisers, and ballot candidates in the data? Do you recognize any?\n",
    "- What are the characteristics of ads with a large reach, i.e., many views? What may a campaign consider when maximizing an ad's reach?\n",
    "- What are the characteristics of ads with a smaller reach, i.e., less views? Aside from funding constraints, why might a campaign want to produce an ad with a smaller but more targeted reach?\n",
    "- What are the characteristics of the most expensive ads? If a campaign is limited on advertising funds, what type of ad may the campaign consider?\n",
    "- What groups or regions are targeted frequently? (For example, for single-gender campaigns, are men or women targeted more frequently?) What groups or regions are targeted less frequently? Why? Does this depend on the type of campaign?\n",
    "- Have the characteristics of ads changed over time (e.g. over the past year)?\n",
    "- When is the most common local time of day for an ad's start date? What about the most common day of week? (Make sure to account for time zones for both questions.)\n",
    "\n",
    "### Getting the Data\n",
    "The data and its corresponding data dictionary is downloadable [here](https://www.snap.com/en-US/political-ads/). Download both the 2018 CSV and the 2019 CSV. \n",
    "\n",
    "The CSVs have the same filename; rename the CSVs as needed.\n",
    "\n",
    "Note that the CSVs have the exact same columns and the exact same data dictionaries (`readme.txt`).\n",
    "\n",
    "### Cleaning and EDA\n",
    "- Concatenate the 2018 CSV and the 2019 CSV into one DataFrame so that we have data from both years.\n",
    "- Clean the data.\n",
    "    - Convert `StartDate` and `EndDate` into datetime. Make sure the datetimes are in the correct time zone. You can use whatever timezone (e.g. UTC) you want as long as you are consistent. However, if you want to answer a question like \"When is the most common local time of day for an ad's start date,\" you will need to convert timezones as needed. See Hint 2 below for more information.\n",
    "- Understand the data in ways relevant to your question using univariate and bivariate analysis of the data as well as aggregations.\n",
    "\n",
    "*Hint 1: What is the \"Z\" at the end of each timestamp?*\n",
    "\n",
    "*Hint 2: `pd.to_datetime` will be useful here. `Series.dt.tz_convert` will be useful if a change in time zone is needed.*\n",
    "\n",
    "*Tip: To visualize geospatial data, consider [Folium](https://python-visualization.github.io/folium/) or another geospatial plotting library.*\n",
    "\n",
    "### Assessment of Missingness\n",
    "Many columns which have `NaN` values may not actually have missing data. How come? In some cases, a null or empty value corresponds to an actual, meaningful value. For example, `readme.txt` states the following about `Gender`:\n",
    "\n",
    ">  Gender - Gender targeting criteria used in the Ad. If empty, then it is targeting all genders\n",
    "\n",
    "In this scenario, an empty `Gender` value (which is read in as `NaN` in pandas) corresponds to \"all genders\".\n",
    "\n",
    "- Refer to the data dictionary to determine which columns do **not** belong to the scenario above. Assess the missingness of one of these columns.\n",
    "\n",
    "### Hypothesis Test / Permutation Test\n",
    "Find a hypothesis test or permutation test to perform. You can use the questions at the top of the notebook for inspiration."
   ]
  },
  {
   "cell_type": "markdown",
   "metadata": {},
   "source": [
    "# Summary of Findings\n",
    "\n",
    "### Introduction\n",
    "Our dataset is about political ads on Snapchat, including descriptions on the date they were published, the amount of money a company invested into the ad, the number of people that viewed the ad, and more. Given Snapchat political data from 2018 and 2019, we want to visualize our data and test to see if the ad creators specifically choose a certain day to publish their ads. It is important for these creators to publish their ad on the right day in order to maximize the number of views. We measure the importance of a day in the week by the amount of money spent on the ads that were published on that given day.\n",
    "\n",
    "### Cleaning and EDA\n",
    "First, we needed to select only the columns that we needed. From all the columns, I chose: 'ADID', 'Spend', 'StartDate', 'EndDate', 'OrganizationName', 'CountryCode'. Initially, we planned on looking at which com\n",
    "\n",
    "### Assessment of Missingness\n",
    "TODO\n",
    "\n",
    "### Hypothesis Test\n",
    "TODO"
   ]
  },
  {
   "cell_type": "markdown",
   "metadata": {},
   "source": [
    "# Code"
   ]
  },
  {
   "cell_type": "code",
   "execution_count": 1,
   "metadata": {
    "ExecuteTime": {
     "end_time": "2019-10-31T23:36:28.652554Z",
     "start_time": "2019-10-31T23:36:27.180520Z"
    }
   },
   "outputs": [],
   "source": [
    "import matplotlib.pyplot as plt\n",
    "import numpy as np\n",
    "import os\n",
    "import pandas as pd\n",
    "import seaborn as sns\n",
    "from scipy import stats\n",
    "%matplotlib inline\n",
    "%config InlineBackend.figure_format = 'retina'  # Higher resolution figures"
   ]
  },
  {
   "cell_type": "markdown",
   "metadata": {},
   "source": [
    "### Cleaning and EDA"
   ]
  },
  {
   "cell_type": "code",
   "execution_count": 2,
   "metadata": {},
   "outputs": [],
   "source": [
    "# Reading in the CSVs\n",
    "\n",
    "pol18 = pd.read_csv('2018PoliticalAds.csv')\n",
    "pol19 = pd.read_csv('2019PoliticalAds.csv')"
   ]
  },
  {
   "cell_type": "code",
   "execution_count": 3,
   "metadata": {},
   "outputs": [
    {
     "data": {
      "text/plain": [
       "array([ True,  True,  True,  True,  True,  True,  True,  True,  True,\n",
       "        True,  True,  True,  True,  True,  True,  True,  True,  True,\n",
       "        True,  True,  True,  True,  True,  True,  True,  True,  True,\n",
       "        True,  True,  True,  True,  True,  True,  True])"
      ]
     },
     "execution_count": 3,
     "metadata": {},
     "output_type": "execute_result"
    }
   ],
   "source": [
    "# First, I check to see if all the columns match between the CSVs\n",
    "\n",
    "pol19.columns == pol18.columns"
   ]
  },
  {
   "cell_type": "code",
   "execution_count": 4,
   "metadata": {},
   "outputs": [
    {
     "data": {
      "text/plain": [
       "array([ True,  True,  True,  True,  True,  True,  True,  True,  True,\n",
       "        True,  True,  True,  True,  True,  True,  True,  True,  True,\n",
       "        True,  True,  True,  True,  True,  True,  True,  True,  True,\n",
       "        True,  True,  True,  True,  True,  True,  True])"
      ]
     },
     "execution_count": 4,
     "metadata": {},
     "output_type": "execute_result"
    }
   ],
   "source": [
    "# I check to see if the concatenation of the CSVs was successful\n",
    "\n",
    "pol_comb = pd.concat([pol18, pol19], ignore_index = True)\n",
    "pol_comb.columns == pol19.columns"
   ]
  },
  {
   "cell_type": "code",
   "execution_count": 5,
   "metadata": {},
   "outputs": [],
   "source": [
    "# I chose the columns that were relevant to my question\n",
    "\n",
    "useful_cols = ['ADID', 'Spend', 'StartDate', 'EndDate', 'OrganizationName', 'CountryCode']\n",
    "pol_comb = pol_comb[useful_cols]"
   ]
  },
  {
   "cell_type": "code",
   "execution_count": 6,
   "metadata": {},
   "outputs": [
    {
     "name": "stderr",
     "output_type": "stream",
     "text": [
      "/opt/anaconda3/lib/python3.7/site-packages/ipykernel_launcher.py:5: FutureWarning: Sorting because non-concatenation axis is not aligned. A future version\n",
      "of pandas will change to not sort by default.\n",
      "\n",
      "To accept the future behavior, pass 'sort=False'.\n",
      "\n",
      "To retain the current behavior and silence the warning, pass 'sort=True'.\n",
      "\n",
      "  \"\"\"\n"
     ]
    },
    {
     "data": {
      "text/html": [
       "<div>\n",
       "<style scoped>\n",
       "    .dataframe tbody tr th:only-of-type {\n",
       "        vertical-align: middle;\n",
       "    }\n",
       "\n",
       "    .dataframe tbody tr th {\n",
       "        vertical-align: top;\n",
       "    }\n",
       "\n",
       "    .dataframe thead th {\n",
       "        text-align: right;\n",
       "    }\n",
       "</style>\n",
       "<table border=\"1\" class=\"dataframe\">\n",
       "  <thead>\n",
       "    <tr style=\"text-align: right;\">\n",
       "      <th></th>\n",
       "      <th>type</th>\n",
       "      <th>null %</th>\n",
       "    </tr>\n",
       "  </thead>\n",
       "  <tbody>\n",
       "    <tr>\n",
       "      <td>EndDate</td>\n",
       "      <td>object</td>\n",
       "      <td>0.182052</td>\n",
       "    </tr>\n",
       "    <tr>\n",
       "      <td>ADID</td>\n",
       "      <td>object</td>\n",
       "      <td>0.000000</td>\n",
       "    </tr>\n",
       "    <tr>\n",
       "      <td>CountryCode</td>\n",
       "      <td>object</td>\n",
       "      <td>0.000000</td>\n",
       "    </tr>\n",
       "    <tr>\n",
       "      <td>OrganizationName</td>\n",
       "      <td>object</td>\n",
       "      <td>0.000000</td>\n",
       "    </tr>\n",
       "    <tr>\n",
       "      <td>Spend</td>\n",
       "      <td>int64</td>\n",
       "      <td>0.000000</td>\n",
       "    </tr>\n",
       "    <tr>\n",
       "      <td>StartDate</td>\n",
       "      <td>object</td>\n",
       "      <td>0.000000</td>\n",
       "    </tr>\n",
       "  </tbody>\n",
       "</table>\n",
       "</div>"
      ],
      "text/plain": [
       "                    type    null %\n",
       "EndDate           object  0.182052\n",
       "ADID              object  0.000000\n",
       "CountryCode       object  0.000000\n",
       "OrganizationName  object  0.000000\n",
       "Spend              int64  0.000000\n",
       "StartDate         object  0.000000"
      ]
     },
     "execution_count": 6,
     "metadata": {},
     "output_type": "execute_result"
    }
   ],
   "source": [
    "# I create a table that contains the percentage of null values in each category - everything has some value except for EndDate\n",
    "\n",
    "s_type = pol_comb.dtypes\n",
    "s_null = pol_comb.isnull().mean().sort_values(ascending = False)\n",
    "type_null = pd.concat([s_type, s_null], axis = 1)\n",
    "type_null.columns = ['type', 'null %']\n",
    "type_null.sort_values(by = 'null %', ascending = False)"
   ]
  },
  {
   "cell_type": "code",
   "execution_count": 7,
   "metadata": {},
   "outputs": [],
   "source": [
    "# First we convert the date to DateTime Objects \n",
    "\n",
    "pol_comb[\"StartDate\"] = pd.to_datetime(pol_comb[\"StartDate\"])\n",
    "pol_comb[\"EndDate\"] = pd.to_datetime(pol_comb[\"EndDate\"])"
   ]
  },
  {
   "cell_type": "code",
   "execution_count": 8,
   "metadata": {},
   "outputs": [
    {
     "data": {
      "text/plain": [
       "united states           0.535848\n",
       "united kingdom          0.122306\n",
       "norway                  0.105201\n",
       "canada                  0.093486\n",
       "denmark                 0.024602\n",
       "netherlands             0.018510\n",
       "france                  0.016870\n",
       "austria                 0.008669\n",
       "sweden                  0.008669\n",
       "australia               0.008435\n",
       "kuwait                  0.008201\n",
       "finland                 0.008201\n",
       "switzerland             0.007263\n",
       "belgium                 0.006560\n",
       "ireland                 0.006092\n",
       "india                   0.004217\n",
       "poland                  0.003280\n",
       "germany                 0.003046\n",
       "south africa            0.002343\n",
       "nigeria                 0.002109\n",
       "united arab emirates    0.001640\n",
       "argentina               0.001406\n",
       "turkey                  0.000937\n",
       "lithuania               0.000703\n",
       "puerto rico             0.000469\n",
       "chile                   0.000234\n",
       "new zealand             0.000234\n",
       "iraq                    0.000234\n",
       "brazil                  0.000234\n",
       "Name: CountryCode, dtype: float64"
      ]
     },
     "execution_count": 8,
     "metadata": {},
     "output_type": "execute_result"
    }
   ],
   "source": [
    "# Given the data, it is difficult to assess the origin of the political ad, which makes it difficult to indicate at what local time it was released\n",
    "# For the purposes of this project, I identified the country origin of where the ads mostly come from\n",
    "\n",
    "pol_comb['CountryCode'].value_counts(normalize = True)"
   ]
  },
  {
   "cell_type": "code",
   "execution_count": 9,
   "metadata": {},
   "outputs": [],
   "source": [
    "# Because the majority of ads come from the US (53.58%), I decided to focus only on the ads that originate from the US\n",
    "\n",
    "us_pol_comb = pol_comb[pol_comb['CountryCode'] == 'united states'].reset_index().drop(columns = ['index'])"
   ]
  },
  {
   "cell_type": "code",
   "execution_count": 10,
   "metadata": {},
   "outputs": [],
   "source": [
    "# Although there are still different time zones in the US, I decided to settle on Pacific Standard Time in order to standardize all the times\n",
    "# As a result, ads that were published after 9pm PST could potentially be a part of the next day depending on the region, but we are forced to generalize\n",
    "\n",
    "us_pol_comb.loc[:, \"StartDate\"] = us_pol_comb.loc[:, \"StartDate\"].dt.tz_convert('US/PACIFIC')\n",
    "us_pol_comb.loc[:, \"EndDate\"] = us_pol_comb.loc[:, \"EndDate\"].dt.tz_convert('US/PACIFIC')"
   ]
  },
  {
   "cell_type": "code",
   "execution_count": 11,
   "metadata": {},
   "outputs": [],
   "source": [
    "# We can extract the month, day of week, and hour of when the ads are released\n",
    "\n",
    "us_pol_comb['StartDOW'] = us_pol_comb['StartDate'].apply(lambda x: x.weekday)\n",
    "us_pol_comb['StartMonth'] = us_pol_comb['StartDate'].apply(lambda x: x.month)"
   ]
  },
  {
   "cell_type": "code",
   "execution_count": 12,
   "metadata": {},
   "outputs": [
    {
     "data": {
      "text/plain": [
       "<matplotlib.axes._subplots.AxesSubplot at 0x1a18e7d5d0>"
      ]
     },
     "execution_count": 12,
     "metadata": {},
     "output_type": "execute_result"
    },
    {
     "data": {
      "image/png": "[encoded data removed]",
      "text/plain": [
       "<Figure size 432x288 with 1 Axes>"
      ]
     },
     "metadata": {
      "image/png": {
       "height": 313,
       "width": 375
      },
      "needs_background": "light"
     },
     "output_type": "display_data"
    }
   ],
   "source": [
    "# Distribution of Weekdays - It is interesting to note that the ads usually are published on Tuesday/Thursdays, but not during the weekend\n",
    "# This is an issue that we want to focus on\n",
    "\n",
    "dayDict = {0: 'Monday', 1: 'Tuesday', 2: 'Wednesday', 3: 'Thursday', 4: 'Friday', 5: 'Saturday', 6: 'Sunday'}\n",
    "us_pol_comb['StartDOW'].replace(dayDict, inplace = True)\n",
    "us_pol_comb['StartDOW'].value_counts().plot(kind = 'bar', title = 'Number of Ads by Weekday')"
   ]
  },
  {
   "cell_type": "code",
   "execution_count": 13,
   "metadata": {},
   "outputs": [],
   "source": [
    "# In order to focus on our question, it is important we now group the ads in weekdays or weekends\n",
    "\n",
    "us_pol_comb['isWeekday'] = us_pol_comb['StartDOW'].apply(lambda x: True if x not in ['Saturday','Sunday'] else False)"
   ]
  },
  {
   "cell_type": "code",
   "execution_count": 14,
   "metadata": {},
   "outputs": [
    {
     "data": {
      "text/plain": [
       "<matplotlib.axes._subplots.AxesSubplot at 0x1a17d72c90>"
      ]
     },
     "execution_count": 14,
     "metadata": {},
     "output_type": "execute_result"
    },
    {
     "data": {
      "image/png": "[encoded data removed]",
      "text/plain": [
       "<Figure size 432x288 with 1 Axes>"
      ]
     },
     "metadata": {
      "image/png": {
       "height": 293,
       "width": 381
      },
      "needs_background": "light"
     },
     "output_type": "display_data"
    }
   ],
   "source": [
    "# We can now visualize a bar chart of the number of ads aggregated by the part of week they are released\n",
    "# We observe a high number of ads released on a weekday compared to the weekend\n",
    "\n",
    "dow = us_pol_comb[['isWeekday', 'Spend']]\n",
    "dow_counts = dow.groupby('isWeekday').count()\n",
    "dow_counts.plot.bar(title = 'Number of Ads Released')"
   ]
  },
  {
   "cell_type": "code",
   "execution_count": 15,
   "metadata": {},
   "outputs": [
    {
     "data": {
      "text/plain": [
       "<matplotlib.axes._subplots.AxesSubplot at 0x1a17dfe610>"
      ]
     },
     "execution_count": 15,
     "metadata": {},
     "output_type": "execute_result"
    },
    {
     "data": {
      "image/png": "[encoded data removed]",
      "text/plain": [
       "<Figure size 432x288 with 1 Axes>"
      ]
     },
     "metadata": {
      "image/png": {
       "height": 293,
       "width": 381
      },
      "needs_background": "light"
     },
     "output_type": "display_data"
    }
   ],
   "source": [
    "# Similarly, we can see that more money was spent on average on ads released on a weekday as compared to on a weekend\n",
    "# However, this visualization can be biased due to outliers in the data\n",
    "\n",
    "dow_median_spend = dow.groupby('isWeekday').mean()\n",
    "dow_median_spend.plot.bar(title = 'Average Amount of Money Spent on Ads')"
   ]
  },
  {
   "cell_type": "code",
   "execution_count": 16,
   "metadata": {},
   "outputs": [
    {
     "data": {
      "text/plain": [
       "(-12000, 15000)"
      ]
     },
     "execution_count": 16,
     "metadata": {},
     "output_type": "execute_result"
    },
    {
     "data": {
      "image/png": "[encoded data removed]",
      "text/plain": [
       "<Figure size 432x288 with 1 Axes>"
      ]
     },
     "metadata": {
      "image/png": {
       "height": 263,
       "width": 421
      },
      "needs_background": "light"
     },
     "output_type": "display_data"
    }
   ],
   "source": [
    "# We visualized the distributions of the expenditures on the weekday vs the weekend and noticed most of the data points are centered around zero\n",
    "# The visualization is wide because it is being drawn out by outliers\n",
    "\n",
    "us_pol_comb.groupby('isWeekday')['Spend'].plot(kind='kde', legend=True, title='Distribution of Expenditures')\n",
    "plt.xlim(-12000, 15000)"
   ]
  },
  {
   "cell_type": "code",
   "execution_count": 17,
   "metadata": {},
   "outputs": [
    {
     "data": {
      "text/plain": [
       "<matplotlib.axes._subplots.AxesSubplot at 0x1a188d7c50>"
      ]
     },
     "execution_count": 17,
     "metadata": {},
     "output_type": "execute_result"
    },
    {
     "data": {
      "image/png": "[encoded data removed]",
      "text/plain": [
       "<Figure size 432x288 with 1 Axes>"
      ]
     },
     "metadata": {
      "image/png": {
       "height": 248,
       "width": 362
      },
      "needs_background": "light"
     },
     "output_type": "display_data"
    }
   ],
   "source": [
    "# To emphasize the influence of the outliers, we created a box plot to see how the data is distributed\n",
    "# The box itself is squished on the far left because there are so many data points around zero and as a result, there are many outliers (especially for weekdays)\n",
    "\n",
    "weekday = dow[dow['isWeekday'] == True]\n",
    "weekend = dow[dow['isWeekday'] == False]\n",
    "sns.boxplot(data=[weekday['Spend'], weekend['Spend']], orient='h')"
   ]
  },
  {
   "cell_type": "code",
   "execution_count": 18,
   "metadata": {},
   "outputs": [
    {
     "data": {
      "text/plain": [
       "2287"
      ]
     },
     "execution_count": 18,
     "metadata": {},
     "output_type": "execute_result"
    }
   ],
   "source": [
    "us_pol_comb.shape[0]"
   ]
  },
  {
   "cell_type": "code",
   "execution_count": 19,
   "metadata": {},
   "outputs": [
    {
     "name": "stdout",
     "output_type": "stream",
     "text": [
      "(array([ 675,  739,  774,  910, 1252, 1292, 1355, 1396, 1416, 1430, 1441,\n",
      "       1639, 1931, 1934, 1962, 2153]),)\n"
     ]
    }
   ],
   "source": [
    "# To visualize our data without the outliers, we decided to calculate the z-score of all the expenditures \n",
    "# We got rid of the data points that had a z-score greater than 3, which were 16 data points (printed below were their z-scores)\n",
    "\n",
    "\n",
    "no_out = us_pol_comb.copy()\n",
    "z = np.abs(stats.zscore(no_out['Spend']))\n",
    "print(np.where(z > 3))\n",
    "no_out = no_out[z < 3]"
   ]
  },
  {
   "cell_type": "code",
   "execution_count": 20,
   "metadata": {},
   "outputs": [
    {
     "data": {
      "text/plain": [
       "<matplotlib.axes._subplots.AxesSubplot at 0x1a18925d50>"
      ]
     },
     "execution_count": 20,
     "metadata": {},
     "output_type": "execute_result"
    },
    {
     "data": {
      "image/png": "[encoded data removed]",
      "text/plain": [
       "<Figure size 432x288 with 1 Axes>"
      ]
     },
     "metadata": {
      "image/png": {
       "height": 313,
       "width": 375
      },
      "needs_background": "light"
     },
     "output_type": "display_data"
    }
   ],
   "source": [
    "# Because we took out only 16 data points, we do not expect the distribution of counts to change significantly\n",
    "\n",
    "dayDict = {0: 'Monday', 1: 'Tuesday', 2: 'Wednesday', 3: 'Thursday', 4: 'Friday', 5: 'Saturday', 6: 'Sunday'}\n",
    "no_out['StartDOW'].replace(dayDict, inplace = True)\n",
    "no_out['StartDOW'].value_counts().plot(kind = 'bar', title = 'Number of Ads by Weekday')"
   ]
  },
  {
   "cell_type": "code",
   "execution_count": 21,
   "metadata": {},
   "outputs": [
    {
     "data": {
      "text/plain": [
       "(-12000, 15000)"
      ]
     },
     "execution_count": 21,
     "metadata": {},
     "output_type": "execute_result"
    },
    {
     "data": {
      "image/png": "[encoded data removed]",
      "text/plain": [
       "<Figure size 432x288 with 1 Axes>"
      ]
     },
     "metadata": {
      "image/png": {
       "height": 263,
       "width": 421
      },
      "needs_background": "light"
     },
     "output_type": "display_data"
    }
   ],
   "source": [
    "# The distribution around zero \n",
    "\n",
    "no_out.groupby('isWeekday')['Spend'].plot(kind='kde', legend=True, title='Distribution of Expenditures')\n",
    "plt.xlim(-12000, 15000)"
   ]
  },
  {
   "cell_type": "code",
   "execution_count": 22,
   "metadata": {},
   "outputs": [
    {
     "data": {
      "text/html": [
       "<div>\n",
       "<style scoped>\n",
       "    .dataframe tbody tr th:only-of-type {\n",
       "        vertical-align: middle;\n",
       "    }\n",
       "\n",
       "    .dataframe tbody tr th {\n",
       "        vertical-align: top;\n",
       "    }\n",
       "\n",
       "    .dataframe thead th {\n",
       "        text-align: right;\n",
       "    }\n",
       "</style>\n",
       "<table border=\"1\" class=\"dataframe\">\n",
       "  <thead>\n",
       "    <tr style=\"text-align: right;\">\n",
       "      <th></th>\n",
       "      <th>isWeekday</th>\n",
       "      <th>Spend</th>\n",
       "    </tr>\n",
       "  </thead>\n",
       "  <tbody>\n",
       "    <tr>\n",
       "      <td>0</td>\n",
       "      <td>True</td>\n",
       "      <td>35</td>\n",
       "    </tr>\n",
       "    <tr>\n",
       "      <td>1</td>\n",
       "      <td>True</td>\n",
       "      <td>56</td>\n",
       "    </tr>\n",
       "    <tr>\n",
       "      <td>2</td>\n",
       "      <td>True</td>\n",
       "      <td>2048</td>\n",
       "    </tr>\n",
       "    <tr>\n",
       "      <td>3</td>\n",
       "      <td>True</td>\n",
       "      <td>196</td>\n",
       "    </tr>\n",
       "    <tr>\n",
       "      <td>4</td>\n",
       "      <td>True</td>\n",
       "      <td>655</td>\n",
       "    </tr>\n",
       "    <tr>\n",
       "      <td>...</td>\n",
       "      <td>...</td>\n",
       "      <td>...</td>\n",
       "    </tr>\n",
       "    <tr>\n",
       "      <td>2282</td>\n",
       "      <td>True</td>\n",
       "      <td>49</td>\n",
       "    </tr>\n",
       "    <tr>\n",
       "      <td>2283</td>\n",
       "      <td>True</td>\n",
       "      <td>12</td>\n",
       "    </tr>\n",
       "    <tr>\n",
       "      <td>2284</td>\n",
       "      <td>True</td>\n",
       "      <td>28</td>\n",
       "    </tr>\n",
       "    <tr>\n",
       "      <td>2285</td>\n",
       "      <td>True</td>\n",
       "      <td>2</td>\n",
       "    </tr>\n",
       "    <tr>\n",
       "      <td>2286</td>\n",
       "      <td>True</td>\n",
       "      <td>19</td>\n",
       "    </tr>\n",
       "  </tbody>\n",
       "</table>\n",
       "<p>2271 rows × 2 columns</p>\n",
       "</div>"
      ],
      "text/plain": [
       "      isWeekday  Spend\n",
       "0          True     35\n",
       "1          True     56\n",
       "2          True   2048\n",
       "3          True    196\n",
       "4          True    655\n",
       "...         ...    ...\n",
       "2282       True     49\n",
       "2283       True     12\n",
       "2284       True     28\n",
       "2285       True      2\n",
       "2286       True     19\n",
       "\n",
       "[2271 rows x 2 columns]"
      ]
     },
     "execution_count": 22,
     "metadata": {},
     "output_type": "execute_result"
    }
   ],
   "source": [
    "# Now we can go back to categorizing the ads by time of week without including the outliers\n",
    "\n",
    "dow_no_out = no_out[['isWeekday', 'Spend']]\n",
    "dow_no_out"
   ]
  },
  {
   "cell_type": "code",
   "execution_count": 23,
   "metadata": {},
   "outputs": [
    {
     "data": {
      "text/plain": [
       "<matplotlib.axes._subplots.AxesSubplot at 0x1a1822ac50>"
      ]
     },
     "execution_count": 23,
     "metadata": {},
     "output_type": "execute_result"
    },
    {
     "data": {
      "image/png": "[encoded data removed]",
      "text/plain": [
       "<Figure size 432x288 with 1 Axes>"
      ]
     },
     "metadata": {
      "image/png": {
       "height": 293,
       "width": 381
      },
      "needs_background": "light"
     },
     "output_type": "display_data"
    }
   ],
   "source": [
    "# By taking out the outliers, we can drastically see a change in the average amount of money spent\n",
    "# This is because all the outliers were in weekdays, which means that the companies that invested heavily on their ad wanted it to be released on a weekday\n",
    "\n",
    "dow_median_spend_no_out = dow_no_out.groupby('isWeekday').mean()\n",
    "dow_median_spend_no_out.plot.bar(title = 'Average Amount of Money Spent on Ads')"
   ]
  },
  {
   "cell_type": "code",
   "execution_count": 24,
   "metadata": {},
   "outputs": [],
   "source": [
    "weekday_outno = dow_no_out[dow_no_out['isWeekday'] == True]\n",
    "weekend_outno = dow_no_out[dow_no_out['isWeekday'] == False]"
   ]
  },
  {
   "cell_type": "code",
   "execution_count": 25,
   "metadata": {},
   "outputs": [
    {
     "data": {
      "text/plain": [
       "<matplotlib.axes._subplots.AxesSubplot at 0x1a19301d10>"
      ]
     },
     "execution_count": 25,
     "metadata": {},
     "output_type": "execute_result"
    },
    {
     "data": {
      "image/png": "[encoded data removed]",
      "text/plain": [
       "<Figure size 432x288 with 1 Axes>"
      ]
     },
     "metadata": {
      "image/png": {
       "height": 248,
       "width": 362
      },
      "needs_background": "light"
     },
     "output_type": "display_data"
    }
   ],
   "source": [
    "# Although not as visual as we would want, the data is distributed as such by the boxplots because the data is not uniformly distributed\n",
    "# There are several data points that are still outliers (not as extreme) and that can be seen in the distributions\n",
    "\n",
    "sns.boxplot(data=[weekday_outno['Spend'], weekend_outno['Spend']], orient='h')"
   ]
  },
  {
   "cell_type": "code",
   "execution_count": 26,
   "metadata": {},
   "outputs": [
    {
     "data": {
      "text/html": [
       "<div>\n",
       "<style scoped>\n",
       "    .dataframe tbody tr th:only-of-type {\n",
       "        vertical-align: middle;\n",
       "    }\n",
       "\n",
       "    .dataframe tbody tr th {\n",
       "        vertical-align: top;\n",
       "    }\n",
       "\n",
       "    .dataframe thead th {\n",
       "        text-align: right;\n",
       "    }\n",
       "</style>\n",
       "<table border=\"1\" class=\"dataframe\">\n",
       "  <thead>\n",
       "    <tr style=\"text-align: right;\">\n",
       "      <th>StartMonth</th>\n",
       "      <th>Apr</th>\n",
       "      <th>Aug</th>\n",
       "      <th>Dec</th>\n",
       "      <th>Feb</th>\n",
       "      <th>Jan</th>\n",
       "      <th>Jul</th>\n",
       "      <th>Jun</th>\n",
       "      <th>Mar</th>\n",
       "      <th>May</th>\n",
       "      <th>Nov</th>\n",
       "      <th>Oct</th>\n",
       "      <th>Sep</th>\n",
       "    </tr>\n",
       "    <tr>\n",
       "      <th>StartDOW</th>\n",
       "      <th></th>\n",
       "      <th></th>\n",
       "      <th></th>\n",
       "      <th></th>\n",
       "      <th></th>\n",
       "      <th></th>\n",
       "      <th></th>\n",
       "      <th></th>\n",
       "      <th></th>\n",
       "      <th></th>\n",
       "      <th></th>\n",
       "      <th></th>\n",
       "    </tr>\n",
       "  </thead>\n",
       "  <tbody>\n",
       "    <tr>\n",
       "      <td>Friday</td>\n",
       "      <td>4772.50</td>\n",
       "      <td>150.08</td>\n",
       "      <td>4120.98</td>\n",
       "      <td>903.17</td>\n",
       "      <td>1013.00</td>\n",
       "      <td>1020.75</td>\n",
       "      <td>1654.93</td>\n",
       "      <td>2326.27</td>\n",
       "      <td>1337.20</td>\n",
       "      <td>355.03</td>\n",
       "      <td>884.53</td>\n",
       "      <td>1906.65</td>\n",
       "    </tr>\n",
       "    <tr>\n",
       "      <td>Monday</td>\n",
       "      <td>1714.00</td>\n",
       "      <td>1070.62</td>\n",
       "      <td>97.23</td>\n",
       "      <td>437.50</td>\n",
       "      <td>0.00</td>\n",
       "      <td>10612.23</td>\n",
       "      <td>120.25</td>\n",
       "      <td>299.50</td>\n",
       "      <td>831.83</td>\n",
       "      <td>1359.97</td>\n",
       "      <td>1538.63</td>\n",
       "      <td>1496.93</td>\n",
       "    </tr>\n",
       "    <tr>\n",
       "      <td>Saturday</td>\n",
       "      <td>230.00</td>\n",
       "      <td>1703.50</td>\n",
       "      <td>93.33</td>\n",
       "      <td>0.00</td>\n",
       "      <td>107.67</td>\n",
       "      <td>0.00</td>\n",
       "      <td>0.00</td>\n",
       "      <td>1712.17</td>\n",
       "      <td>77.00</td>\n",
       "      <td>294.17</td>\n",
       "      <td>4218.33</td>\n",
       "      <td>207.16</td>\n",
       "    </tr>\n",
       "    <tr>\n",
       "      <td>Sunday</td>\n",
       "      <td>0.00</td>\n",
       "      <td>150.67</td>\n",
       "      <td>2324.00</td>\n",
       "      <td>0.00</td>\n",
       "      <td>5357.00</td>\n",
       "      <td>0.00</td>\n",
       "      <td>976.00</td>\n",
       "      <td>352.00</td>\n",
       "      <td>298.00</td>\n",
       "      <td>315.17</td>\n",
       "      <td>775.92</td>\n",
       "      <td>350.67</td>\n",
       "    </tr>\n",
       "    <tr>\n",
       "      <td>Thursday</td>\n",
       "      <td>324.80</td>\n",
       "      <td>1510.17</td>\n",
       "      <td>254.27</td>\n",
       "      <td>0.00</td>\n",
       "      <td>1405.00</td>\n",
       "      <td>2133.86</td>\n",
       "      <td>270.75</td>\n",
       "      <td>416.50</td>\n",
       "      <td>753.84</td>\n",
       "      <td>387.50</td>\n",
       "      <td>840.78</td>\n",
       "      <td>429.48</td>\n",
       "    </tr>\n",
       "    <tr>\n",
       "      <td>Tuesday</td>\n",
       "      <td>7765.75</td>\n",
       "      <td>1712.33</td>\n",
       "      <td>3031.45</td>\n",
       "      <td>100.00</td>\n",
       "      <td>1817.00</td>\n",
       "      <td>456.45</td>\n",
       "      <td>682.77</td>\n",
       "      <td>378.00</td>\n",
       "      <td>240.60</td>\n",
       "      <td>922.37</td>\n",
       "      <td>15881.18</td>\n",
       "      <td>842.45</td>\n",
       "    </tr>\n",
       "    <tr>\n",
       "      <td>Wednesday</td>\n",
       "      <td>0.00</td>\n",
       "      <td>1473.00</td>\n",
       "      <td>3522.29</td>\n",
       "      <td>0.00</td>\n",
       "      <td>212.00</td>\n",
       "      <td>1090.40</td>\n",
       "      <td>254.33</td>\n",
       "      <td>836.57</td>\n",
       "      <td>121.43</td>\n",
       "      <td>1347.11</td>\n",
       "      <td>3866.51</td>\n",
       "      <td>228.48</td>\n",
       "    </tr>\n",
       "  </tbody>\n",
       "</table>\n",
       "</div>"
      ],
      "text/plain": [
       "StartMonth      Apr      Aug      Dec     Feb      Jan       Jul      Jun  \\\n",
       "StartDOW                                                                    \n",
       "Friday      4772.50   150.08  4120.98  903.17  1013.00   1020.75  1654.93   \n",
       "Monday      1714.00  1070.62    97.23  437.50     0.00  10612.23   120.25   \n",
       "Saturday     230.00  1703.50    93.33    0.00   107.67      0.00     0.00   \n",
       "Sunday         0.00   150.67  2324.00    0.00  5357.00      0.00   976.00   \n",
       "Thursday     324.80  1510.17   254.27    0.00  1405.00   2133.86   270.75   \n",
       "Tuesday     7765.75  1712.33  3031.45  100.00  1817.00    456.45   682.77   \n",
       "Wednesday      0.00  1473.00  3522.29    0.00   212.00   1090.40   254.33   \n",
       "\n",
       "StartMonth      Mar      May      Nov       Oct      Sep  \n",
       "StartDOW                                                  \n",
       "Friday      2326.27  1337.20   355.03    884.53  1906.65  \n",
       "Monday       299.50   831.83  1359.97   1538.63  1496.93  \n",
       "Saturday    1712.17    77.00   294.17   4218.33   207.16  \n",
       "Sunday       352.00   298.00   315.17    775.92   350.67  \n",
       "Thursday     416.50   753.84   387.50    840.78   429.48  \n",
       "Tuesday      378.00   240.60   922.37  15881.18   842.45  \n",
       "Wednesday    836.57   121.43  1347.11   3866.51   228.48  "
      ]
     },
     "execution_count": 26,
     "metadata": {},
     "output_type": "execute_result"
    }
   ],
   "source": [
    "# We also made a pivot table to look at the average amount of money spent on a given day on a given month\n",
    "# This includes the outliers\n",
    "\n",
    "dayDict = {0: 'Monday', 1: 'Tuesday', 2: 'Wednesday', 3: 'Thursday', 4: 'Friday', 5: 'Saturday', 6: 'Sunday'}\n",
    "us_pol_comb['StartDOW'].replace(dayDict, inplace = True)\n",
    "monthDict= {1:'Jan', 2:'Feb', 3:'Mar', 4:'Apr', 5:'May', 6:'Jun', 7:'Jul', 8:'Aug', 9:'Sep', 10:'Oct', 11:'Nov', 12:'Dec'}\n",
    "us_pol_comb['StartMonth'].replace(monthDict, inplace = True)\n",
    "\n",
    "pd.pivot_table(us_pol_comb, values = 'Spend', index = 'StartDOW', columns = 'StartMonth', aggfunc = np.mean).fillna(0).round(2)"
   ]
  },
  {
   "cell_type": "code",
   "execution_count": 27,
   "metadata": {},
   "outputs": [
    {
     "data": {
      "text/html": [
       "<div>\n",
       "<style scoped>\n",
       "    .dataframe tbody tr th:only-of-type {\n",
       "        vertical-align: middle;\n",
       "    }\n",
       "\n",
       "    .dataframe tbody tr th {\n",
       "        vertical-align: top;\n",
       "    }\n",
       "\n",
       "    .dataframe thead th {\n",
       "        text-align: right;\n",
       "    }\n",
       "</style>\n",
       "<table border=\"1\" class=\"dataframe\">\n",
       "  <thead>\n",
       "    <tr style=\"text-align: right;\">\n",
       "      <th>StartMonth</th>\n",
       "      <th>Apr</th>\n",
       "      <th>Aug</th>\n",
       "      <th>Dec</th>\n",
       "      <th>Feb</th>\n",
       "      <th>Jan</th>\n",
       "      <th>Jul</th>\n",
       "      <th>Jun</th>\n",
       "      <th>Mar</th>\n",
       "      <th>May</th>\n",
       "      <th>Nov</th>\n",
       "      <th>Oct</th>\n",
       "      <th>Sep</th>\n",
       "    </tr>\n",
       "    <tr>\n",
       "      <th>StartDOW</th>\n",
       "      <th></th>\n",
       "      <th></th>\n",
       "      <th></th>\n",
       "      <th></th>\n",
       "      <th></th>\n",
       "      <th></th>\n",
       "      <th></th>\n",
       "      <th></th>\n",
       "      <th></th>\n",
       "      <th></th>\n",
       "      <th></th>\n",
       "      <th></th>\n",
       "    </tr>\n",
       "  </thead>\n",
       "  <tbody>\n",
       "    <tr>\n",
       "      <td>Friday</td>\n",
       "      <td>4772.50</td>\n",
       "      <td>150.08</td>\n",
       "      <td>23.39</td>\n",
       "      <td>903.17</td>\n",
       "      <td>1013.00</td>\n",
       "      <td>1020.75</td>\n",
       "      <td>1654.93</td>\n",
       "      <td>2326.27</td>\n",
       "      <td>1337.20</td>\n",
       "      <td>355.03</td>\n",
       "      <td>884.53</td>\n",
       "      <td>1906.65</td>\n",
       "    </tr>\n",
       "    <tr>\n",
       "      <td>Monday</td>\n",
       "      <td>1714.00</td>\n",
       "      <td>1070.62</td>\n",
       "      <td>97.23</td>\n",
       "      <td>437.50</td>\n",
       "      <td>0.00</td>\n",
       "      <td>8192.14</td>\n",
       "      <td>120.25</td>\n",
       "      <td>299.50</td>\n",
       "      <td>831.83</td>\n",
       "      <td>1359.97</td>\n",
       "      <td>1538.63</td>\n",
       "      <td>1496.93</td>\n",
       "    </tr>\n",
       "    <tr>\n",
       "      <td>Saturday</td>\n",
       "      <td>230.00</td>\n",
       "      <td>1703.50</td>\n",
       "      <td>93.33</td>\n",
       "      <td>0.00</td>\n",
       "      <td>107.67</td>\n",
       "      <td>0.00</td>\n",
       "      <td>0.00</td>\n",
       "      <td>1712.17</td>\n",
       "      <td>77.00</td>\n",
       "      <td>294.17</td>\n",
       "      <td>4218.33</td>\n",
       "      <td>207.16</td>\n",
       "    </tr>\n",
       "    <tr>\n",
       "      <td>Sunday</td>\n",
       "      <td>0.00</td>\n",
       "      <td>150.67</td>\n",
       "      <td>2324.00</td>\n",
       "      <td>0.00</td>\n",
       "      <td>5357.00</td>\n",
       "      <td>0.00</td>\n",
       "      <td>976.00</td>\n",
       "      <td>352.00</td>\n",
       "      <td>298.00</td>\n",
       "      <td>315.17</td>\n",
       "      <td>775.92</td>\n",
       "      <td>350.67</td>\n",
       "    </tr>\n",
       "    <tr>\n",
       "      <td>Thursday</td>\n",
       "      <td>324.80</td>\n",
       "      <td>1510.17</td>\n",
       "      <td>254.27</td>\n",
       "      <td>0.00</td>\n",
       "      <td>1405.00</td>\n",
       "      <td>2133.86</td>\n",
       "      <td>270.75</td>\n",
       "      <td>416.50</td>\n",
       "      <td>753.84</td>\n",
       "      <td>387.50</td>\n",
       "      <td>840.78</td>\n",
       "      <td>429.48</td>\n",
       "    </tr>\n",
       "    <tr>\n",
       "      <td>Tuesday</td>\n",
       "      <td>2471.73</td>\n",
       "      <td>1712.33</td>\n",
       "      <td>3031.45</td>\n",
       "      <td>100.00</td>\n",
       "      <td>1817.00</td>\n",
       "      <td>456.45</td>\n",
       "      <td>682.77</td>\n",
       "      <td>378.00</td>\n",
       "      <td>240.60</td>\n",
       "      <td>922.37</td>\n",
       "      <td>1116.23</td>\n",
       "      <td>423.01</td>\n",
       "    </tr>\n",
       "    <tr>\n",
       "      <td>Wednesday</td>\n",
       "      <td>0.00</td>\n",
       "      <td>1473.00</td>\n",
       "      <td>3522.29</td>\n",
       "      <td>0.00</td>\n",
       "      <td>212.00</td>\n",
       "      <td>1090.40</td>\n",
       "      <td>254.33</td>\n",
       "      <td>836.57</td>\n",
       "      <td>121.43</td>\n",
       "      <td>1347.11</td>\n",
       "      <td>2158.88</td>\n",
       "      <td>228.48</td>\n",
       "    </tr>\n",
       "  </tbody>\n",
       "</table>\n",
       "</div>"
      ],
      "text/plain": [
       "StartMonth      Apr      Aug      Dec     Feb      Jan      Jul      Jun  \\\n",
       "StartDOW                                                                   \n",
       "Friday      4772.50   150.08    23.39  903.17  1013.00  1020.75  1654.93   \n",
       "Monday      1714.00  1070.62    97.23  437.50     0.00  8192.14   120.25   \n",
       "Saturday     230.00  1703.50    93.33    0.00   107.67     0.00     0.00   \n",
       "Sunday         0.00   150.67  2324.00    0.00  5357.00     0.00   976.00   \n",
       "Thursday     324.80  1510.17   254.27    0.00  1405.00  2133.86   270.75   \n",
       "Tuesday     2471.73  1712.33  3031.45  100.00  1817.00   456.45   682.77   \n",
       "Wednesday      0.00  1473.00  3522.29    0.00   212.00  1090.40   254.33   \n",
       "\n",
       "StartMonth      Mar      May      Nov      Oct      Sep  \n",
       "StartDOW                                                 \n",
       "Friday      2326.27  1337.20   355.03   884.53  1906.65  \n",
       "Monday       299.50   831.83  1359.97  1538.63  1496.93  \n",
       "Saturday    1712.17    77.00   294.17  4218.33   207.16  \n",
       "Sunday       352.00   298.00   315.17   775.92   350.67  \n",
       "Thursday     416.50   753.84   387.50   840.78   429.48  \n",
       "Tuesday      378.00   240.60   922.37  1116.23   423.01  \n",
       "Wednesday    836.57   121.43  1347.11  2158.88   228.48  "
      ]
     },
     "execution_count": 27,
     "metadata": {},
     "output_type": "execute_result"
    }
   ],
   "source": [
    "# We also made a pivot table to look at the average amount of money spent on a given day on a given month\n",
    "# This does not include outliers and we can see some differences like Tuesdays in April\n",
    "# We want to test \n",
    "\n",
    "dayDict = {0: 'Monday', 1: 'Tuesday', 2: 'Wednesday', 3: 'Thursday', 4: 'Friday', 5: 'Saturday', 6: 'Sunday'}\n",
    "no_out['StartDOW'].replace(dayDict, inplace = True)\n",
    "monthDict= {1:'Jan', 2:'Feb', 3:'Mar', 4:'Apr', 5:'May', 6:'Jun', 7:'Jul', 8:'Aug', 9:'Sep', 10:'Oct', 11:'Nov', 12:'Dec'}\n",
    "no_out['StartMonth'].replace(monthDict, inplace = True)\n",
    "\n",
    "pd.pivot_table(no_out, values = 'Spend', index = 'StartDOW', columns = 'StartMonth', aggfunc = np.mean).fillna(0).round(2)"
   ]
  },
  {
   "cell_type": "markdown",
   "metadata": {},
   "source": [
    "### Assessment of Missingness"
   ]
  },
  {
   "cell_type": "markdown",
   "metadata": {
    "ExecuteTime": {
     "end_time": "2019-10-31T23:36:28.662099Z",
     "start_time": "2019-10-31T23:36:28.660016Z"
    }
   },
   "source": [
    "### Analyzing the Missingness of End Date"
   ]
  },
  {
   "cell_type": "code",
   "execution_count": 48,
   "metadata": {},
   "outputs": [
    {
     "data": {
      "text/html": [
       "<div>\n",
       "<style scoped>\n",
       "    .dataframe tbody tr th:only-of-type {\n",
       "        vertical-align: middle;\n",
       "    }\n",
       "\n",
       "    .dataframe tbody tr th {\n",
       "        vertical-align: top;\n",
       "    }\n",
       "\n",
       "    .dataframe thead th {\n",
       "        text-align: right;\n",
       "    }\n",
       "</style>\n",
       "<table border=\"1\" class=\"dataframe\">\n",
       "  <thead>\n",
       "    <tr style=\"text-align: right;\">\n",
       "      <th></th>\n",
       "      <th>ADID</th>\n",
       "      <th>Spend</th>\n",
       "      <th>StartDate</th>\n",
       "      <th>EndDate</th>\n",
       "      <th>OrganizationName</th>\n",
       "      <th>CountryCode</th>\n",
       "      <th>StartDOW</th>\n",
       "      <th>StartMonth</th>\n",
       "      <th>isWeekday</th>\n",
       "      <th>end_date_isnull</th>\n",
       "    </tr>\n",
       "  </thead>\n",
       "  <tbody>\n",
       "    <tr>\n",
       "      <td>0</td>\n",
       "      <td>6f6f6abb25d183bc3f0a2df46d18c65a18f6e1cac73416...</td>\n",
       "      <td>35</td>\n",
       "      <td>2018-11-06 10:21:20-08:00</td>\n",
       "      <td>2018-11-06 17:19:08-08:00</td>\n",
       "      <td>Research Triangle Student Advocacy</td>\n",
       "      <td>united states</td>\n",
       "      <td>Tuesday</td>\n",
       "      <td>Nov</td>\n",
       "      <td>True</td>\n",
       "      <td>False</td>\n",
       "    </tr>\n",
       "    <tr>\n",
       "      <td>1</td>\n",
       "      <td>64d906646b616c034c91b69b9e7851944844eb456dd203...</td>\n",
       "      <td>56</td>\n",
       "      <td>2018-09-28 16:10:14-07:00</td>\n",
       "      <td>2018-10-16 19:00:00-07:00</td>\n",
       "      <td>Chong and Koster</td>\n",
       "      <td>united states</td>\n",
       "      <td>Friday</td>\n",
       "      <td>Sep</td>\n",
       "      <td>True</td>\n",
       "      <td>False</td>\n",
       "    </tr>\n",
       "    <tr>\n",
       "      <td>2</td>\n",
       "      <td>45d7697e2522ccdd56b699e832792b9b659f7159e180a2...</td>\n",
       "      <td>2048</td>\n",
       "      <td>2018-09-28 12:00:00-07:00</td>\n",
       "      <td>2018-10-26 20:59:00-07:00</td>\n",
       "      <td>Güd Marketing</td>\n",
       "      <td>united states</td>\n",
       "      <td>Friday</td>\n",
       "      <td>Sep</td>\n",
       "      <td>True</td>\n",
       "      <td>False</td>\n",
       "    </tr>\n",
       "    <tr>\n",
       "      <td>3</td>\n",
       "      <td>46d8326f706f56296fa29f51b5127c67190807ccc08534...</td>\n",
       "      <td>196</td>\n",
       "      <td>2018-10-26 10:58:01-07:00</td>\n",
       "      <td>2018-11-06 14:59:59-08:00</td>\n",
       "      <td>Mothership Strategies</td>\n",
       "      <td>united states</td>\n",
       "      <td>Friday</td>\n",
       "      <td>Oct</td>\n",
       "      <td>True</td>\n",
       "      <td>False</td>\n",
       "    </tr>\n",
       "    <tr>\n",
       "      <td>4</td>\n",
       "      <td>3af2a0894b7d969aed065b1c1d0a399882df677209dfe5...</td>\n",
       "      <td>655</td>\n",
       "      <td>2018-10-01 14:08:10-07:00</td>\n",
       "      <td>NaT</td>\n",
       "      <td>Mothership Strategies</td>\n",
       "      <td>united states</td>\n",
       "      <td>Monday</td>\n",
       "      <td>Oct</td>\n",
       "      <td>True</td>\n",
       "      <td>True</td>\n",
       "    </tr>\n",
       "    <tr>\n",
       "      <td>...</td>\n",
       "      <td>...</td>\n",
       "      <td>...</td>\n",
       "      <td>...</td>\n",
       "      <td>...</td>\n",
       "      <td>...</td>\n",
       "      <td>...</td>\n",
       "      <td>...</td>\n",
       "      <td>...</td>\n",
       "      <td>...</td>\n",
       "      <td>...</td>\n",
       "    </tr>\n",
       "    <tr>\n",
       "      <td>2282</td>\n",
       "      <td>a442aabbca2ec4d066e0982f676124949d7c6e9f3b04c9...</td>\n",
       "      <td>49</td>\n",
       "      <td>2019-08-23 15:41:42-07:00</td>\n",
       "      <td>2019-08-30 20:59:59-07:00</td>\n",
       "      <td>Chong and Koster</td>\n",
       "      <td>united states</td>\n",
       "      <td>Friday</td>\n",
       "      <td>Aug</td>\n",
       "      <td>True</td>\n",
       "      <td>False</td>\n",
       "    </tr>\n",
       "    <tr>\n",
       "      <td>2283</td>\n",
       "      <td>9f2f31b0472cab9f1842f26775446a592624991f62a96d...</td>\n",
       "      <td>12</td>\n",
       "      <td>2019-12-13 07:18:16-08:00</td>\n",
       "      <td>2019-12-31 20:59:59-08:00</td>\n",
       "      <td>Warren for President</td>\n",
       "      <td>united states</td>\n",
       "      <td>Friday</td>\n",
       "      <td>Dec</td>\n",
       "      <td>True</td>\n",
       "      <td>False</td>\n",
       "    </tr>\n",
       "    <tr>\n",
       "      <td>2284</td>\n",
       "      <td>6ce46b94e418861a750422bc5492c231213bc6ab944006...</td>\n",
       "      <td>28</td>\n",
       "      <td>2019-05-08 09:00:00-07:00</td>\n",
       "      <td>2019-05-22 09:00:00-07:00</td>\n",
       "      <td>Middle Seat Consulting, LLC</td>\n",
       "      <td>united states</td>\n",
       "      <td>Wednesday</td>\n",
       "      <td>May</td>\n",
       "      <td>True</td>\n",
       "      <td>False</td>\n",
       "    </tr>\n",
       "    <tr>\n",
       "      <td>2285</td>\n",
       "      <td>400029cda9002ff5bf0748dff9d4dd4931604d665af453...</td>\n",
       "      <td>2</td>\n",
       "      <td>2019-05-21 21:00:00-07:00</td>\n",
       "      <td>2019-06-14 12:59:59-07:00</td>\n",
       "      <td>Blueprint Interactive</td>\n",
       "      <td>united states</td>\n",
       "      <td>Tuesday</td>\n",
       "      <td>May</td>\n",
       "      <td>True</td>\n",
       "      <td>False</td>\n",
       "    </tr>\n",
       "    <tr>\n",
       "      <td>2286</td>\n",
       "      <td>331a6cce5553dc82ede9fcc08308f3ecad3884fc9ef3a8...</td>\n",
       "      <td>19</td>\n",
       "      <td>2019-12-02 01:15:45-08:00</td>\n",
       "      <td>NaT</td>\n",
       "      <td>liberteeshop.com</td>\n",
       "      <td>united states</td>\n",
       "      <td>Monday</td>\n",
       "      <td>Dec</td>\n",
       "      <td>True</td>\n",
       "      <td>True</td>\n",
       "    </tr>\n",
       "  </tbody>\n",
       "</table>\n",
       "<p>2287 rows × 10 columns</p>\n",
       "</div>"
      ],
      "text/plain": [
       "                                                   ADID  Spend  \\\n",
       "0     6f6f6abb25d183bc3f0a2df46d18c65a18f6e1cac73416...     35   \n",
       "1     64d906646b616c034c91b69b9e7851944844eb456dd203...     56   \n",
       "2     45d7697e2522ccdd56b699e832792b9b659f7159e180a2...   2048   \n",
       "3     46d8326f706f56296fa29f51b5127c67190807ccc08534...    196   \n",
       "4     3af2a0894b7d969aed065b1c1d0a399882df677209dfe5...    655   \n",
       "...                                                 ...    ...   \n",
       "2282  a442aabbca2ec4d066e0982f676124949d7c6e9f3b04c9...     49   \n",
       "2283  9f2f31b0472cab9f1842f26775446a592624991f62a96d...     12   \n",
       "2284  6ce46b94e418861a750422bc5492c231213bc6ab944006...     28   \n",
       "2285  400029cda9002ff5bf0748dff9d4dd4931604d665af453...      2   \n",
       "2286  331a6cce5553dc82ede9fcc08308f3ecad3884fc9ef3a8...     19   \n",
       "\n",
       "                     StartDate                   EndDate  \\\n",
       "0    2018-11-06 10:21:20-08:00 2018-11-06 17:19:08-08:00   \n",
       "1    2018-09-28 16:10:14-07:00 2018-10-16 19:00:00-07:00   \n",
       "2    2018-09-28 12:00:00-07:00 2018-10-26 20:59:00-07:00   \n",
       "3    2018-10-26 10:58:01-07:00 2018-11-06 14:59:59-08:00   \n",
       "4    2018-10-01 14:08:10-07:00                       NaT   \n",
       "...                        ...                       ...   \n",
       "2282 2019-08-23 15:41:42-07:00 2019-08-30 20:59:59-07:00   \n",
       "2283 2019-12-13 07:18:16-08:00 2019-12-31 20:59:59-08:00   \n",
       "2284 2019-05-08 09:00:00-07:00 2019-05-22 09:00:00-07:00   \n",
       "2285 2019-05-21 21:00:00-07:00 2019-06-14 12:59:59-07:00   \n",
       "2286 2019-12-02 01:15:45-08:00                       NaT   \n",
       "\n",
       "                        OrganizationName    CountryCode   StartDOW StartMonth  \\\n",
       "0     Research Triangle Student Advocacy  united states    Tuesday        Nov   \n",
       "1                       Chong and Koster  united states     Friday        Sep   \n",
       "2                          Güd Marketing  united states     Friday        Sep   \n",
       "3                  Mothership Strategies  united states     Friday        Oct   \n",
       "4                  Mothership Strategies  united states     Monday        Oct   \n",
       "...                                  ...            ...        ...        ...   \n",
       "2282                    Chong and Koster  united states     Friday        Aug   \n",
       "2283                Warren for President  united states     Friday        Dec   \n",
       "2284         Middle Seat Consulting, LLC  united states  Wednesday        May   \n",
       "2285               Blueprint Interactive  united states    Tuesday        May   \n",
       "2286                    liberteeshop.com  united states     Monday        Dec   \n",
       "\n",
       "      isWeekday  end_date_isnull  \n",
       "0          True            False  \n",
       "1          True            False  \n",
       "2          True            False  \n",
       "3          True            False  \n",
       "4          True             True  \n",
       "...         ...              ...  \n",
       "2282       True            False  \n",
       "2283       True            False  \n",
       "2284       True            False  \n",
       "2285       True            False  \n",
       "2286       True             True  \n",
       "\n",
       "[2287 rows x 10 columns]"
      ]
     },
     "execution_count": 48,
     "metadata": {},
     "output_type": "execute_result"
    }
   ],
   "source": [
    "missing_table = us_pol_comb.assign(end_date_isnull=us_pol_comb['EndDate'].isnull())\n",
    "missing_table.head()"
   ]
  },
  {
   "cell_type": "markdown",
   "metadata": {},
   "source": [
    "### Is missingness dependent on Spend?"
   ]
  },
  {
   "cell_type": "code",
   "execution_count": 84,
   "metadata": {},
   "outputs": [
    {
     "data": {
      "text/html": [
       "<div>\n",
       "<style scoped>\n",
       "    .dataframe tbody tr th:only-of-type {\n",
       "        vertical-align: middle;\n",
       "    }\n",
       "\n",
       "    .dataframe tbody tr th {\n",
       "        vertical-align: top;\n",
       "    }\n",
       "\n",
       "    .dataframe thead th {\n",
       "        text-align: right;\n",
       "    }\n",
       "</style>\n",
       "<table border=\"1\" class=\"dataframe\">\n",
       "  <thead>\n",
       "    <tr style=\"text-align: right;\">\n",
       "      <th></th>\n",
       "      <th>Spend</th>\n",
       "      <th>StartDOW</th>\n",
       "    </tr>\n",
       "  </thead>\n",
       "  <tbody>\n",
       "    <tr>\n",
       "      <td>0</td>\n",
       "      <td>35</td>\n",
       "      <td>Tuesday</td>\n",
       "    </tr>\n",
       "    <tr>\n",
       "      <td>1</td>\n",
       "      <td>56</td>\n",
       "      <td>Friday</td>\n",
       "    </tr>\n",
       "    <tr>\n",
       "      <td>2</td>\n",
       "      <td>2048</td>\n",
       "      <td>Friday</td>\n",
       "    </tr>\n",
       "    <tr>\n",
       "      <td>3</td>\n",
       "      <td>196</td>\n",
       "      <td>Friday</td>\n",
       "    </tr>\n",
       "    <tr>\n",
       "      <td>4</td>\n",
       "      <td>655</td>\n",
       "      <td>Monday</td>\n",
       "    </tr>\n",
       "  </tbody>\n",
       "</table>\n",
       "</div>"
      ],
      "text/plain": [
       "   Spend StartDOW\n",
       "0     35  Tuesday\n",
       "1     56   Friday\n",
       "2   2048   Friday\n",
       "3    196   Friday\n",
       "4    655   Monday"
      ]
     },
     "execution_count": 84,
     "metadata": {},
     "output_type": "execute_result"
    }
   ],
   "source": [
    "#only need Spend and end_date_isnull columns\n",
    "df = missing_table[['Spend','end_date_isnull']]\n",
    "df.head()"
   ]
  },
  {
   "cell_type": "code",
   "execution_count": 52,
   "metadata": {},
   "outputs": [
    {
     "data": {
      "text/html": [
       "<div>\n",
       "<style scoped>\n",
       "    .dataframe tbody tr th:only-of-type {\n",
       "        vertical-align: middle;\n",
       "    }\n",
       "\n",
       "    .dataframe tbody tr th {\n",
       "        vertical-align: top;\n",
       "    }\n",
       "\n",
       "    .dataframe thead th {\n",
       "        text-align: right;\n",
       "    }\n",
       "</style>\n",
       "<table border=\"1\" class=\"dataframe\">\n",
       "  <thead>\n",
       "    <tr style=\"text-align: right;\">\n",
       "      <th></th>\n",
       "      <th>Spend</th>\n",
       "    </tr>\n",
       "    <tr>\n",
       "      <th>end_date_isnull</th>\n",
       "      <th></th>\n",
       "    </tr>\n",
       "  </thead>\n",
       "  <tbody>\n",
       "    <tr>\n",
       "      <td>False</td>\n",
       "      <td>2732.287861</td>\n",
       "    </tr>\n",
       "    <tr>\n",
       "      <td>True</td>\n",
       "      <td>477.178170</td>\n",
       "    </tr>\n",
       "  </tbody>\n",
       "</table>\n",
       "</div>"
      ],
      "text/plain": [
       "                       Spend\n",
       "end_date_isnull             \n",
       "False            2732.287861\n",
       "True              477.178170"
      ]
     },
     "execution_count": 52,
     "metadata": {},
     "output_type": "execute_result"
    }
   ],
   "source": [
    "df_means = df.groupby('end_date_isnull').mean()\n",
    "df"
   ]
  },
  {
   "cell_type": "code",
   "execution_count": 59,
   "metadata": {},
   "outputs": [
    {
     "data": {
      "text/plain": [
       "2255.1096904324604"
      ]
     },
     "execution_count": 59,
     "metadata": {},
     "output_type": "execute_result"
    }
   ],
   "source": [
    "#observed abs diff in means\n",
    "observed_diff_means = abs(df_means.diff().iloc[-1,0])\n",
    "observed_diff_means"
   ]
  },
  {
   "cell_type": "code",
   "execution_count": 71,
   "metadata": {},
   "outputs": [],
   "source": [
    "#permutation test\n",
    "N = 1000\n",
    "results = []\n",
    "\n",
    "for _ in range(N):\n",
    "    #create shuffled dataframe\n",
    "    s = df['end_date_isnull'].sample(frac=1, replace=False).reset_index(drop=True)\n",
    "    shuffled = df.assign(shuffled_null=s)\n",
    "    \n",
    "    #calculate difference of means and add to results array\n",
    "    shuff_means_table = shuffled.groupby('shuffled_null').mean()\n",
    "    results.append(abs(shuff_means_table.diff().iloc[-1,0]))\n",
    "\n",
    "diffs_of_means_shuff = pd.Series(results)"
   ]
  },
  {
   "cell_type": "code",
   "execution_count": 72,
   "metadata": {},
   "outputs": [
    {
     "data": {
      "text/plain": [
       "0.002"
      ]
     },
     "execution_count": 72,
     "metadata": {},
     "output_type": "execute_result"
    }
   ],
   "source": [
    "pval = (diffs_of_means_shuff>=observed_diff_means).sum()/N\n",
    "pval"
   ]
  },
  {
   "cell_type": "markdown",
   "metadata": {},
   "source": [
    "**Since the p-value is less than 0.05, the distribution is significantly different than if it were randomized, and the missingness of End Date is dependent on Spend**"
   ]
  },
  {
   "cell_type": "markdown",
   "metadata": {},
   "source": [
    "## Is missingness dependent on StartMonth?"
   ]
  },
  {
   "cell_type": "code",
   "execution_count": 106,
   "metadata": {},
   "outputs": [
    {
     "data": {
      "text/html": [
       "<div>\n",
       "<style scoped>\n",
       "    .dataframe tbody tr th:only-of-type {\n",
       "        vertical-align: middle;\n",
       "    }\n",
       "\n",
       "    .dataframe tbody tr th {\n",
       "        vertical-align: top;\n",
       "    }\n",
       "\n",
       "    .dataframe thead th {\n",
       "        text-align: right;\n",
       "    }\n",
       "</style>\n",
       "<table border=\"1\" class=\"dataframe\">\n",
       "  <thead>\n",
       "    <tr style=\"text-align: right;\">\n",
       "      <th></th>\n",
       "      <th>StartMonth</th>\n",
       "      <th>end_date_isnull</th>\n",
       "    </tr>\n",
       "  </thead>\n",
       "  <tbody>\n",
       "    <tr>\n",
       "      <td>0</td>\n",
       "      <td>Nov</td>\n",
       "      <td>False</td>\n",
       "    </tr>\n",
       "    <tr>\n",
       "      <td>1</td>\n",
       "      <td>Sep</td>\n",
       "      <td>False</td>\n",
       "    </tr>\n",
       "    <tr>\n",
       "      <td>2</td>\n",
       "      <td>Sep</td>\n",
       "      <td>False</td>\n",
       "    </tr>\n",
       "    <tr>\n",
       "      <td>3</td>\n",
       "      <td>Oct</td>\n",
       "      <td>False</td>\n",
       "    </tr>\n",
       "    <tr>\n",
       "      <td>4</td>\n",
       "      <td>Oct</td>\n",
       "      <td>True</td>\n",
       "    </tr>\n",
       "  </tbody>\n",
       "</table>\n",
       "</div>"
      ],
      "text/plain": [
       "  StartMonth  end_date_isnull\n",
       "0        Nov            False\n",
       "1        Sep            False\n",
       "2        Sep            False\n",
       "3        Oct            False\n",
       "4        Oct             True"
      ]
     },
     "execution_count": 106,
     "metadata": {},
     "output_type": "execute_result"
    }
   ],
   "source": [
    "#only need StartMonth and end_date_isnull columns\n",
    "df = missing_table[['StartMonth','end_date_isnull']]\n",
    "df.head()"
   ]
  },
  {
   "cell_type": "code",
   "execution_count": 107,
   "metadata": {},
   "outputs": [
    {
     "data": {
      "text/html": [
       "<div>\n",
       "<style scoped>\n",
       "    .dataframe tbody tr th:only-of-type {\n",
       "        vertical-align: middle;\n",
       "    }\n",
       "\n",
       "    .dataframe tbody tr th {\n",
       "        vertical-align: top;\n",
       "    }\n",
       "\n",
       "    .dataframe thead th {\n",
       "        text-align: right;\n",
       "    }\n",
       "</style>\n",
       "<table border=\"1\" class=\"dataframe\">\n",
       "  <thead>\n",
       "    <tr style=\"text-align: right;\">\n",
       "      <th></th>\n",
       "      <th>end_date_isnull</th>\n",
       "    </tr>\n",
       "    <tr>\n",
       "      <th>StartMonth</th>\n",
       "      <th></th>\n",
       "    </tr>\n",
       "  </thead>\n",
       "  <tbody>\n",
       "    <tr>\n",
       "      <td>Apr</td>\n",
       "      <td>0.214286</td>\n",
       "    </tr>\n",
       "    <tr>\n",
       "      <td>Aug</td>\n",
       "      <td>0.069307</td>\n",
       "    </tr>\n",
       "    <tr>\n",
       "      <td>Dec</td>\n",
       "      <td>0.157895</td>\n",
       "    </tr>\n",
       "    <tr>\n",
       "      <td>Feb</td>\n",
       "      <td>0.000000</td>\n",
       "    </tr>\n",
       "    <tr>\n",
       "      <td>Jan</td>\n",
       "      <td>0.100000</td>\n",
       "    </tr>\n",
       "    <tr>\n",
       "      <td>Jul</td>\n",
       "      <td>0.259615</td>\n",
       "    </tr>\n",
       "    <tr>\n",
       "      <td>Jun</td>\n",
       "      <td>0.186047</td>\n",
       "    </tr>\n",
       "    <tr>\n",
       "      <td>Mar</td>\n",
       "      <td>0.111111</td>\n",
       "    </tr>\n",
       "    <tr>\n",
       "      <td>May</td>\n",
       "      <td>0.053435</td>\n",
       "    </tr>\n",
       "    <tr>\n",
       "      <td>Nov</td>\n",
       "      <td>0.277966</td>\n",
       "    </tr>\n",
       "    <tr>\n",
       "      <td>Oct</td>\n",
       "      <td>0.101852</td>\n",
       "    </tr>\n",
       "    <tr>\n",
       "      <td>Sep</td>\n",
       "      <td>0.556686</td>\n",
       "    </tr>\n",
       "  </tbody>\n",
       "</table>\n",
       "</div>"
      ],
      "text/plain": [
       "            end_date_isnull\n",
       "StartMonth                 \n",
       "Apr                0.214286\n",
       "Aug                0.069307\n",
       "Dec                0.157895\n",
       "Feb                0.000000\n",
       "Jan                0.100000\n",
       "Jul                0.259615\n",
       "Jun                0.186047\n",
       "Mar                0.111111\n",
       "May                0.053435\n",
       "Nov                0.277966\n",
       "Oct                0.101852\n",
       "Sep                0.556686"
      ]
     },
     "execution_count": 107,
     "metadata": {},
     "output_type": "execute_result"
    }
   ],
   "source": [
    "df_means = df.groupby('StartMonth').mean()\n",
    "df_means"
   ]
  },
  {
   "cell_type": "code",
   "execution_count": 111,
   "metadata": {},
   "outputs": [
    {
     "data": {
      "text/plain": [
       "-4.440892098500626e-16"
      ]
     },
     "execution_count": 111,
     "metadata": {},
     "output_type": "execute_result"
    }
   ],
   "source": [
    "#observed abs diff in means\n",
    "observed_tvd = sum(df_means['end_date_isnull'] - (df_means['end_date_isnull']).mean())\n",
    "observed_tvd"
   ]
  },
  {
   "cell_type": "code",
   "execution_count": 115,
   "metadata": {},
   "outputs": [],
   "source": [
    "#permutation test\n",
    "N = 1000\n",
    "results = []\n",
    "\n",
    "for _ in range(N):\n",
    "    #create shuffled dataframe\n",
    "    s = df['end_date_isnull'].sample(frac=1, replace=False).reset_index(drop=True)\n",
    "    shuffled = df.assign(shuffled_null=s)\n",
    "    \n",
    "    #calculate tvd and add to results array\n",
    "    shuff_means_table = shuffled.groupby('shuffled_null').mean()\n",
    "    results.append(sum(shuff_means_table['end_date_isnull'] - (shuff_means_table['end_date_isnull']).mean()))\n",
    "\n",
    "tvds_shuff = pd.Series(results)"
   ]
  },
  {
   "cell_type": "code",
   "execution_count": 116,
   "metadata": {},
   "outputs": [
    {
     "data": {
      "text/plain": [
       "1.0"
      ]
     },
     "execution_count": 116,
     "metadata": {},
     "output_type": "execute_result"
    }
   ],
   "source": [
    "pval = (tvds_shuff>=observed_tvd).sum()/N\n",
    "pval"
   ]
  },
  {
   "cell_type": "markdown",
   "metadata": {},
   "source": [
    "**The p-value is greater than 0.05, and missingness of end date is NOT DEPENDENT on start month.**"
   ]
  },
  {
   "cell_type": "markdown",
   "metadata": {},
   "source": [
    "### Hypothesis Test"
   ]
  },
  {
   "cell_type": "code",
   "execution_count": 29,
   "metadata": {},
   "outputs": [
    {
     "data": {
      "text/html": [
       "<div>\n",
       "<style scoped>\n",
       "    .dataframe tbody tr th:only-of-type {\n",
       "        vertical-align: middle;\n",
       "    }\n",
       "\n",
       "    .dataframe tbody tr th {\n",
       "        vertical-align: top;\n",
       "    }\n",
       "\n",
       "    .dataframe thead th {\n",
       "        text-align: right;\n",
       "    }\n",
       "</style>\n",
       "<table border=\"1\" class=\"dataframe\">\n",
       "  <thead>\n",
       "    <tr style=\"text-align: right;\">\n",
       "      <th></th>\n",
       "      <th>StartDOW</th>\n",
       "      <th>Spend</th>\n",
       "    </tr>\n",
       "  </thead>\n",
       "  <tbody>\n",
       "    <tr>\n",
       "      <td>0</td>\n",
       "      <td>Tuesday</td>\n",
       "      <td>35</td>\n",
       "    </tr>\n",
       "    <tr>\n",
       "      <td>1</td>\n",
       "      <td>Friday</td>\n",
       "      <td>56</td>\n",
       "    </tr>\n",
       "    <tr>\n",
       "      <td>2</td>\n",
       "      <td>Friday</td>\n",
       "      <td>2048</td>\n",
       "    </tr>\n",
       "    <tr>\n",
       "      <td>3</td>\n",
       "      <td>Friday</td>\n",
       "      <td>196</td>\n",
       "    </tr>\n",
       "    <tr>\n",
       "      <td>4</td>\n",
       "      <td>Monday</td>\n",
       "      <td>655</td>\n",
       "    </tr>\n",
       "  </tbody>\n",
       "</table>\n",
       "</div>"
      ],
      "text/plain": [
       "  StartDOW  Spend\n",
       "0  Tuesday     35\n",
       "1   Friday     56\n",
       "2   Friday   2048\n",
       "3   Friday    196\n",
       "4   Monday    655"
      ]
     },
     "execution_count": 29,
     "metadata": {},
     "output_type": "execute_result"
    }
   ],
   "source": [
    "#we only need StartDOW, which represents the day of week on which the ad was shown, and Spend, which is the amount\n",
    "#of money spent in USD\n",
    "DOW_and_spend = us_pol_comb[['StartDOW', 'Spend']]\n",
    "DOW_and_spend.head()"
   ]
  },
  {
   "cell_type": "code",
   "execution_count": 30,
   "metadata": {},
   "outputs": [
    {
     "data": {
      "text/html": [
       "<div>\n",
       "<style scoped>\n",
       "    .dataframe tbody tr th:only-of-type {\n",
       "        vertical-align: middle;\n",
       "    }\n",
       "\n",
       "    .dataframe tbody tr th {\n",
       "        vertical-align: top;\n",
       "    }\n",
       "\n",
       "    .dataframe thead th {\n",
       "        text-align: right;\n",
       "    }\n",
       "</style>\n",
       "<table border=\"1\" class=\"dataframe\">\n",
       "  <thead>\n",
       "    <tr style=\"text-align: right;\">\n",
       "      <th></th>\n",
       "      <th>isWeekday</th>\n",
       "      <th>Spend</th>\n",
       "    </tr>\n",
       "  </thead>\n",
       "  <tbody>\n",
       "    <tr>\n",
       "      <td>0</td>\n",
       "      <td>True</td>\n",
       "      <td>35</td>\n",
       "    </tr>\n",
       "    <tr>\n",
       "      <td>1</td>\n",
       "      <td>True</td>\n",
       "      <td>56</td>\n",
       "    </tr>\n",
       "    <tr>\n",
       "      <td>2</td>\n",
       "      <td>True</td>\n",
       "      <td>2048</td>\n",
       "    </tr>\n",
       "    <tr>\n",
       "      <td>3</td>\n",
       "      <td>True</td>\n",
       "      <td>196</td>\n",
       "    </tr>\n",
       "    <tr>\n",
       "      <td>4</td>\n",
       "      <td>True</td>\n",
       "      <td>655</td>\n",
       "    </tr>\n",
       "  </tbody>\n",
       "</table>\n",
       "</div>"
      ],
      "text/plain": [
       "   isWeekday  Spend\n",
       "0       True     35\n",
       "1       True     56\n",
       "2       True   2048\n",
       "3       True    196\n",
       "4       True    655"
      ]
     },
     "execution_count": 30,
     "metadata": {},
     "output_type": "execute_result"
    }
   ],
   "source": [
    "dow.head()"
   ]
  },
  {
   "cell_type": "code",
   "execution_count": 31,
   "metadata": {},
   "outputs": [
    {
     "data": {
      "text/html": [
       "<div>\n",
       "<style scoped>\n",
       "    .dataframe tbody tr th:only-of-type {\n",
       "        vertical-align: middle;\n",
       "    }\n",
       "\n",
       "    .dataframe tbody tr th {\n",
       "        vertical-align: top;\n",
       "    }\n",
       "\n",
       "    .dataframe thead th {\n",
       "        text-align: right;\n",
       "    }\n",
       "</style>\n",
       "<table border=\"1\" class=\"dataframe\">\n",
       "  <thead>\n",
       "    <tr style=\"text-align: right;\">\n",
       "      <th></th>\n",
       "      <th>Spend</th>\n",
       "      <th>Weekday</th>\n",
       "    </tr>\n",
       "  </thead>\n",
       "  <tbody>\n",
       "    <tr>\n",
       "      <td>0</td>\n",
       "      <td>35</td>\n",
       "      <td>True</td>\n",
       "    </tr>\n",
       "    <tr>\n",
       "      <td>1</td>\n",
       "      <td>56</td>\n",
       "      <td>True</td>\n",
       "    </tr>\n",
       "    <tr>\n",
       "      <td>2</td>\n",
       "      <td>2048</td>\n",
       "      <td>True</td>\n",
       "    </tr>\n",
       "    <tr>\n",
       "      <td>3</td>\n",
       "      <td>196</td>\n",
       "      <td>True</td>\n",
       "    </tr>\n",
       "    <tr>\n",
       "      <td>4</td>\n",
       "      <td>655</td>\n",
       "      <td>True</td>\n",
       "    </tr>\n",
       "  </tbody>\n",
       "</table>\n",
       "</div>"
      ],
      "text/plain": [
       "   Spend  Weekday\n",
       "0     35     True\n",
       "1     56     True\n",
       "2   2048     True\n",
       "3    196     True\n",
       "4    655     True"
      ]
     },
     "execution_count": 31,
     "metadata": {},
     "output_type": "execute_result"
    }
   ],
   "source": [
    "#separating ads into weekend and weekday; we no longer need StartDOW\n",
    "weekday = DOW_and_spend['StartDOW'].apply(lambda x: True if x not in ['Saturday','Sunday'] else False)\n",
    "weekday_and_spend = DOW_and_spend.assign(Weekday = weekday).drop('StartDOW', axis = 1)\n",
    "weekday_and_spend.head()"
   ]
  },
  {
   "cell_type": "markdown",
   "metadata": {},
   "source": [
    "## Permutation Test - Testing by Simulation\n",
    "- **Null hypothesis**: There is no significant difference between the amount of money spent on ads shown on weekends and weekdays.\n",
    "- **Alternate hypothesis**: There is a significant difference between the amount of money spent on ads shown on weekends and weekdays.\n",
    "- **Test Statistic**: Absolute difference in means\n",
    "\n",
    "set a significance level of 0.05"
   ]
  },
  {
   "cell_type": "code",
   "execution_count": 32,
   "metadata": {},
   "outputs": [
    {
     "data": {
      "text/html": [
       "<div>\n",
       "<style scoped>\n",
       "    .dataframe tbody tr th:only-of-type {\n",
       "        vertical-align: middle;\n",
       "    }\n",
       "\n",
       "    .dataframe tbody tr th {\n",
       "        vertical-align: top;\n",
       "    }\n",
       "\n",
       "    .dataframe thead th {\n",
       "        text-align: right;\n",
       "    }\n",
       "</style>\n",
       "<table border=\"1\" class=\"dataframe\">\n",
       "  <thead>\n",
       "    <tr style=\"text-align: right;\">\n",
       "      <th></th>\n",
       "      <th>Spend</th>\n",
       "    </tr>\n",
       "    <tr>\n",
       "      <th>isWeekday</th>\n",
       "      <th></th>\n",
       "    </tr>\n",
       "  </thead>\n",
       "  <tbody>\n",
       "    <tr>\n",
       "      <td>False</td>\n",
       "      <td>903.160173</td>\n",
       "    </tr>\n",
       "    <tr>\n",
       "      <td>True</td>\n",
       "      <td>2254.464494</td>\n",
       "    </tr>\n",
       "  </tbody>\n",
       "</table>\n",
       "</div>"
      ],
      "text/plain": [
       "                 Spend\n",
       "isWeekday             \n",
       "False       903.160173\n",
       "True       2254.464494"
      ]
     },
     "execution_count": 32,
     "metadata": {},
     "output_type": "execute_result"
    }
   ],
   "source": [
    "#observed means\n",
    "means_table = dow.groupby('isWeekday').mean()\n",
    "means_table"
   ]
  },
  {
   "cell_type": "code",
   "execution_count": 33,
   "metadata": {},
   "outputs": [
    {
     "data": {
      "text/plain": [
       "1351.304321003251"
      ]
     },
     "execution_count": 33,
     "metadata": {},
     "output_type": "execute_result"
    }
   ],
   "source": [
    "#observed test statistic\n",
    "observed_difference = means_table.diff().iloc[-1,0]\n",
    "observed_difference"
   ]
  },
  {
   "cell_type": "code",
   "execution_count": 34,
   "metadata": {},
   "outputs": [],
   "source": [
    "#simulation\n",
    "\n",
    "N = 1000\n",
    "results = []\n",
    "\n",
    "for _ in range(N):\n",
    "    #create shuffled dataframe\n",
    "    s = weekday_and_spend['Weekday'].sample(frac=1, replace=False).reset_index(drop=True)\n",
    "    shuffled = weekday_and_spend.assign(weekday=s)\n",
    "    \n",
    "    #calculate difference of means and add to results array\n",
    "    shuff_means_table = shuffled.groupby('weekday').mean()\n",
    "    results.append(abs(shuff_means_table.diff().iloc[-1,0]))\n",
    "\n",
    "diffs_of_means = pd.Series(results)"
   ]
  },
  {
   "cell_type": "code",
   "execution_count": 35,
   "metadata": {},
   "outputs": [
    {
     "data": {
      "text/plain": [
       "0       597.354574\n",
       "1      1129.695458\n",
       "2      1406.618656\n",
       "3       913.915690\n",
       "4        45.424701\n",
       "          ...     \n",
       "995    2949.008420\n",
       "996     572.593861\n",
       "997    1803.250004\n",
       "998      90.968619\n",
       "999    1272.633028\n",
       "Length: 1000, dtype: float64"
      ]
     },
     "execution_count": 35,
     "metadata": {},
     "output_type": "execute_result"
    }
   ],
   "source": [
    "diffs_of_means"
   ]
  },
  {
   "cell_type": "code",
   "execution_count": 36,
   "metadata": {},
   "outputs": [
    {
     "data": {
      "text/plain": [
       "0.176"
      ]
     },
     "execution_count": 36,
     "metadata": {},
     "output_type": "execute_result"
    }
   ],
   "source": [
    "pval = (diffs_of_means >= observed_difference).sum() / N\n",
    "pval"
   ]
  },
  {
   "cell_type": "markdown",
   "metadata": {},
   "source": [
    "### Conclusion\n",
    "\n",
    "* We cannot reject the null hypothesis that there is no significant difference between the amount of money spent on ads shown on weekdays and weekends\n",
    "\n",
    "## However\n",
    "Our exploratory data analysis showed clear outliers - what would happen if these were removed?"
   ]
  },
  {
   "cell_type": "code",
   "execution_count": 37,
   "metadata": {},
   "outputs": [
    {
     "data": {
      "text/html": [
       "<div>\n",
       "<style scoped>\n",
       "    .dataframe tbody tr th:only-of-type {\n",
       "        vertical-align: middle;\n",
       "    }\n",
       "\n",
       "    .dataframe tbody tr th {\n",
       "        vertical-align: top;\n",
       "    }\n",
       "\n",
       "    .dataframe thead th {\n",
       "        text-align: right;\n",
       "    }\n",
       "</style>\n",
       "<table border=\"1\" class=\"dataframe\">\n",
       "  <thead>\n",
       "    <tr style=\"text-align: right;\">\n",
       "      <th></th>\n",
       "      <th>Spend</th>\n",
       "      <th>Weekday</th>\n",
       "    </tr>\n",
       "  </thead>\n",
       "  <tbody>\n",
       "    <tr>\n",
       "      <td>0</td>\n",
       "      <td>35</td>\n",
       "      <td>True</td>\n",
       "    </tr>\n",
       "    <tr>\n",
       "      <td>1</td>\n",
       "      <td>56</td>\n",
       "      <td>True</td>\n",
       "    </tr>\n",
       "    <tr>\n",
       "      <td>2</td>\n",
       "      <td>2048</td>\n",
       "      <td>True</td>\n",
       "    </tr>\n",
       "    <tr>\n",
       "      <td>3</td>\n",
       "      <td>196</td>\n",
       "      <td>True</td>\n",
       "    </tr>\n",
       "    <tr>\n",
       "      <td>4</td>\n",
       "      <td>655</td>\n",
       "      <td>True</td>\n",
       "    </tr>\n",
       "  </tbody>\n",
       "</table>\n",
       "</div>"
      ],
      "text/plain": [
       "   Spend  Weekday\n",
       "0     35     True\n",
       "1     56     True\n",
       "2   2048     True\n",
       "3    196     True\n",
       "4    655     True"
      ]
     },
     "execution_count": 37,
     "metadata": {},
     "output_type": "execute_result"
    }
   ],
   "source": [
    "z = np.abs(stats.zscore(weekday_and_spend['Spend']))\n",
    "weekday_and_spend_clean = weekday_and_spend[z<3]\n",
    "weekday_and_spend_clean.head()"
   ]
  },
  {
   "cell_type": "code",
   "execution_count": 38,
   "metadata": {},
   "outputs": [
    {
     "data": {
      "text/html": [
       "<div>\n",
       "<style scoped>\n",
       "    .dataframe tbody tr th:only-of-type {\n",
       "        vertical-align: middle;\n",
       "    }\n",
       "\n",
       "    .dataframe tbody tr th {\n",
       "        vertical-align: top;\n",
       "    }\n",
       "\n",
       "    .dataframe thead th {\n",
       "        text-align: right;\n",
       "    }\n",
       "</style>\n",
       "<table border=\"1\" class=\"dataframe\">\n",
       "  <thead>\n",
       "    <tr style=\"text-align: right;\">\n",
       "      <th></th>\n",
       "      <th>Spend</th>\n",
       "    </tr>\n",
       "    <tr>\n",
       "      <th>isWeekday</th>\n",
       "      <th></th>\n",
       "    </tr>\n",
       "  </thead>\n",
       "  <tbody>\n",
       "    <tr>\n",
       "      <td>False</td>\n",
       "      <td>903.160173</td>\n",
       "    </tr>\n",
       "    <tr>\n",
       "      <td>True</td>\n",
       "      <td>1077.363235</td>\n",
       "    </tr>\n",
       "  </tbody>\n",
       "</table>\n",
       "</div>"
      ],
      "text/plain": [
       "                 Spend\n",
       "isWeekday             \n",
       "False       903.160173\n",
       "True       1077.363235"
      ]
     },
     "execution_count": 38,
     "metadata": {},
     "output_type": "execute_result"
    }
   ],
   "source": [
    "#observed means\n",
    "means_table_clean = dow_no_out.groupby('isWeekday').mean()\n",
    "means_table_clean"
   ]
  },
  {
   "cell_type": "code",
   "execution_count": 39,
   "metadata": {},
   "outputs": [
    {
     "data": {
      "text/plain": [
       "174.2030621339445"
      ]
     },
     "execution_count": 39,
     "metadata": {},
     "output_type": "execute_result"
    }
   ],
   "source": [
    "#observed test statistic\n",
    "observed_difference_clean = means_table_clean.diff().iloc[-1,0]\n",
    "observed_difference_clean"
   ]
  },
  {
   "cell_type": "code",
   "execution_count": 40,
   "metadata": {},
   "outputs": [],
   "source": [
    "#simulation\n",
    "\n",
    "N = 1000\n",
    "results = []\n",
    "\n",
    "for _ in range(N):\n",
    "    #create shuffled dataframe\n",
    "    s = weekday_and_spend_clean['Weekday'].sample(frac=1, replace=False).reset_index(drop=True)\n",
    "    shuffled = weekday_and_spend_clean.assign(weekday=s)\n",
    "    \n",
    "    #calculate difference of means and add to results array\n",
    "    shuff_means_table = shuffled.groupby('weekday').mean()\n",
    "    results.append(abs(shuff_means_table.diff().iloc[-1,0]))\n",
    "\n",
    "diffs_of_means_clean = pd.Series(results)"
   ]
  },
  {
   "cell_type": "code",
   "execution_count": 41,
   "metadata": {},
   "outputs": [
    {
     "data": {
      "text/plain": [
       "0.432"
      ]
     },
     "execution_count": 41,
     "metadata": {},
     "output_type": "execute_result"
    }
   ],
   "source": [
    "pval = (diffs_of_means_clean >= observed_difference_clean).sum() / N\n",
    "pval"
   ]
  },
  {
   "cell_type": "markdown",
   "metadata": {},
   "source": [
    "## Conclusion Without Outliers\n",
    "- with a p-value of less than 0.05, we reject the null hypothesis that there is no significant difference between the amount of money spent on ads shown on weekdays and weekends\n",
    "- we accept the alternate hypothesis - we have found a **significant difference** between the observed distribution and one created by random chance\n",
    "- the outliers have had a significant effect on the outcome of the test - the outliers themselves merit more analysis"
   ]
  }
 ],
 "metadata": {
  "kernelspec": {
   "display_name": "Python 3",
   "language": "python",
   "name": "python3"
  },
  "language_info": {
   "codemirror_mode": {
    "name": "ipython",
    "version": 3
   },
   "file_extension": ".py",
   "mimetype": "text/x-python",
   "name": "python",
   "nbconvert_exporter": "python",
   "pygments_lexer": "ipython3",
   "version": "3.7.4"
  }
 },
 "nbformat": 4,
 "nbformat_minor": 4
}
